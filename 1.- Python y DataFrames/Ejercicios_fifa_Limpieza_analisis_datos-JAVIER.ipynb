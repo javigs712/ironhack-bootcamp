{
 "cells": [
  {
   "cell_type": "markdown",
   "id": "2ea0c5da",
   "metadata": {},
   "source": [
    "## Ejercicio manejo de datos y Limpieza\n",
    "\n",
    " - Importa los datos de FIFA.csv, Contienen información de jugadores de futbol\n",
    " - Realiza una limpieza de datos:\n",
    "   - ¿De qué formato son nuestras variables? ¿cuántas líneas y columnas tiene el dataset?\n",
    "   - Cambia las medidas de las variables Weight y Height a Kg y cm\n",
    "   - Elimina el \"+1\", \"+2\"... de las variables CDM, RDM... y todas las columnas que están al final, sin tener que ir una por una. Apóyate en métodos como split, replace...\n",
    "   - Arregla también las variables W/F, SM, IR\n",
    "   - Para posteriormente hacer un buen análisis de datos por posición del jugador sería recomendable agrupar o normalizar las posiciones (BP, Best Position) en Portero, Defensa, Mediocampista y delantero. Quizás lo mejor sería crear una función posiciones_jugadores y dependiendo de la BP de cada uno que la nueva variable tome uno de esos 4 valores.\n",
    "   - También vamos a querer calcular algunas métricas sobre el valor de los jugadores, Transforma las variables Value y Wage de manera que sea un entero y podamos calcular la suma y la media por equipo, posición, nacionalidad...\n",
    " - Tratamiento de valores nulos:\n",
    "   - Localiza las variables que tienen valores nulos y cuenta cuántos tiene cada una de ellas\n",
    "   - Decide qué hacer con ellos, si eliminarlos, imputarles un valor fijo, imputarles un valor en función de alguna condición...\n",
    " - Valores extremos\n",
    "   - Localiza si las variables numéricas toman valores demasiado elevados o bajos, usa la función describe y pinta gráficos\n",
    "   - Si existe alguno que sea absurdo (por ejemplo una altura en negativo) corrígelo. Si no, trátalo de la manera que más nos convenga para un futuro análisis exploratorio, por ejemplo limítalo a un valor más bajo.\n",
    " - Análisis descriptivo\n",
    "   - Una vez tenemos nuestros datos limpios de irregularidades, de valores nulos y erróneos podemos emepezar a analizar su contenido\n",
    "   - Compara las variables numéricas en función de variables categóricas, como su posición. Respóndete a preguntas tales como qué jugadores son más caros, más altos... Para ello representa una tabla con la suma, la media y la cuenta para cada posición. También dibuja un gráfico que consideres el más conveniente para analizar la misma información visualmente. \n",
    "   - OVA representa una valoración general del jugador, analiza si tiene alguna relación con otras columnas referentes a la calidad como Attacking, Defending... A mayor OVA mayor Value?"
   ]
  },
  {
   "cell_type": "code",
   "execution_count": 155,
   "id": "48cb662e",
   "metadata": {},
   "outputs": [],
   "source": [
    "import pandas as pd\n",
    "import numpy as np\n",
    "import matplotlib.pyplot as plt\n",
    "import seaborn as sns\n",
    "from scipy.stats.mstats import winsorize"
   ]
  },
  {
   "cell_type": "code",
   "execution_count": 156,
   "id": "434c82bc",
   "metadata": {},
   "outputs": [],
   "source": [
    "df_fifa = pd.read_csv('../Data/fifa.csv')"
   ]
  },
  {
   "cell_type": "code",
   "execution_count": 157,
   "id": "c137a7a9-008e-4689-abad-f106dcd12982",
   "metadata": {},
   "outputs": [
    {
     "data": {
      "text/plain": [
       "<bound method NDFrame.describe of        Unnamed: 0      ID           Name  Age  Nationality  \\\n",
       "0            1954  184383      A. Pasche   26  Switzerland   \n",
       "1            2225  188044  Alan Carvalho   30     China PR   \n",
       "2            1959  184431    S. Giovinco   33        Italy   \n",
       "3            9815  233796       J. Evans   22        Wales   \n",
       "4           10074  234799     Y. Demoncy   23       France   \n",
       "...           ...     ...            ...  ...          ...   \n",
       "13695       11284  239074          S. Aw   21      Senegal   \n",
       "13696       11964  241223        S. Mogi   21        Japan   \n",
       "13697        5390  210930     Carles Gil   27        Spain   \n",
       "13698         860  162993       J. Perch   34      England   \n",
       "13699       15795  254882  A. Oeynhausen   18      Germany   \n",
       "\n",
       "                             Club   BP   Position  \\\n",
       "0               FC Lausanne-Sport   CM     CM CDM   \n",
       "1         Beijing Sinobo Guoan FC   ST   ST LW LM   \n",
       "2                        Al Hilal  CAM     CAM CF   \n",
       "3                    Swansea City  CDM     CDM CM   \n",
       "4      US Orléans Loiret Football  CDM     CDM CM   \n",
       "...                           ...  ...        ...   \n",
       "13695              Gil Vicente FC   LB         LB   \n",
       "13696                Cerezo Osaka   GK         GK   \n",
       "13697      New England Revolution   RM  RM CAM CM   \n",
       "13698              Mansfield Town  CDM  CDM RB CM   \n",
       "13699             SC Paderborn 07  CAM         CM   \n",
       "\n",
       "                                    Team & Contract Height  ...   CDM   RDM  \\\n",
       "0                     FC Lausanne-Sport 2015 ~ 2020   5'9\"  ...  59+1  59+1   \n",
       "1      Beijing Sinobo Guoan FC Dec 31, 2020 On Loan   6'0\"  ...  53+2  53+2   \n",
       "2                              Al Hilal 2019 ~ 2022   5'4\"  ...  56+2  56+2   \n",
       "3                          Swansea City 2016 ~ 2021  5'10\"  ...  58+2  58+2   \n",
       "4            US Orléans Loiret Football 2018 ~ 2021  5'11\"  ...  64+2  64+2   \n",
       "...                                             ...    ...  ...   ...   ...   \n",
       "13695                    Gil Vicente FC 2020 ~ 2023   5'8\"  ...  52+2  52+2   \n",
       "13696                      Cerezo Osaka 2017 ~ 2021   6'5\"  ...  23+2  23+2   \n",
       "13697            New England Revolution 2019 ~ 2024   5'7\"  ...  60+2  60+2   \n",
       "13698                    Mansfield Town 2020 ~ 2021  5'11\"  ...  62+1  62+1   \n",
       "13699                   SC Paderborn 07 2020 ~ 2022  5'10\"  ...  55+2  55+2   \n",
       "\n",
       "        RWB    LB   LCB    CB   RCB    RB    GK  OVA  \n",
       "0      59+1  58+1  54+1  54+1  54+1  58+1  15+1   64  \n",
       "1      57+2  53+2  48+2  48+2  48+2  53+2  18+2   77  \n",
       "2      59+2  53+2  41+2  41+2  41+2  53+2  12+2   80  \n",
       "3      56+2  57+2  58+2  58+2  58+2  57+2  14+2   59  \n",
       "4      64+2  63+2  61+2  61+2  61+2  63+2  15+2   65  \n",
       "...     ...   ...   ...   ...   ...   ...   ...  ...  \n",
       "13695  58+2  58+2  54+2  54+2  54+2  58+2  15+2   60  \n",
       "13696  20+2  20+2  22+2  22+2  22+2  20+2  58+2   59  \n",
       "13697  62+2  57+2  47+2  47+2  47+2  57+2  18+2   76  \n",
       "13698  60+2  60+2  63+0  63+0  63+0  60+2  14+2   63  \n",
       "13699  55+2  54+2  51+2  51+2  51+2  54+2  16+2   60  \n",
       "\n",
       "[13700 rows x 102 columns]>"
      ]
     },
     "execution_count": 157,
     "metadata": {},
     "output_type": "execute_result"
    }
   ],
   "source": [
    "df_fifa.describe\n",
    "#With the describe method we obtain information about the number of rows and columns."
   ]
  },
  {
   "cell_type": "code",
   "execution_count": 158,
   "id": "dc421c10-abe1-4aa2-80f8-d24730fa3383",
   "metadata": {},
   "outputs": [
    {
     "name": "stdout",
     "output_type": "stream",
     "text": [
      "<class 'pandas.core.frame.DataFrame'>\n",
      "RangeIndex: 13700 entries, 0 to 13699\n",
      "Data columns (total 102 columns):\n",
      " #    Column            Dtype  \n",
      "---   ------            -----  \n",
      " 0    Unnamed: 0        int64  \n",
      " 1    ID                int64  \n",
      " 2    Name              object \n",
      " 3    Age               int64  \n",
      " 4    Nationality       object \n",
      " 5    Club              object \n",
      " 6    BP                object \n",
      " 7    Position          object \n",
      " 8    Team & Contract   object \n",
      " 9    Height            object \n",
      " 10   Weight            object \n",
      " 11   foot              object \n",
      " 12   Growth            int64  \n",
      " 13   Joined            object \n",
      " 14   Loan Date End     object \n",
      " 15   Value             object \n",
      " 16   Wage              object \n",
      " 17   Release Clause    object \n",
      " 18   Contract          object \n",
      " 19   Attacking         int64  \n",
      " 20   Crossing          int64  \n",
      " 21   Finishing         int64  \n",
      " 22   Heading Accuracy  int64  \n",
      " 23   Short Passing     int64  \n",
      " 24   Volleys           float64\n",
      " 25   Skill             int64  \n",
      " 26   Dribbling         int64  \n",
      " 27   Curve             float64\n",
      " 28   FK Accuracy       int64  \n",
      " 29   Long Passing      int64  \n",
      " 30   Ball Control      int64  \n",
      " 31   Movement          int64  \n",
      " 32   Acceleration      int64  \n",
      " 33   Sprint Speed      int64  \n",
      " 34   Agility           float64\n",
      " 35   Reactions         int64  \n",
      " 36   Balance           float64\n",
      " 37   Power             int64  \n",
      " 38   Shot Power        int64  \n",
      " 39   Jumping           float64\n",
      " 40   Stamina           int64  \n",
      " 41   Strength          int64  \n",
      " 42   Long Shots        int64  \n",
      " 43   Mentality         int64  \n",
      " 44   Aggression        int64  \n",
      " 45   Interceptions     float64\n",
      " 46   Positioning       float64\n",
      " 47   Vision            float64\n",
      " 48   Penalties         int64  \n",
      " 49   Composure         float64\n",
      " 50   Defending         int64  \n",
      " 51   Marking           int64  \n",
      " 52   Standing Tackle   int64  \n",
      " 53   Sliding Tackle    float64\n",
      " 54   Goalkeeping       int64  \n",
      " 55   GK Diving         int64  \n",
      " 56   GK Handling       int64  \n",
      " 57   GK Kicking        int64  \n",
      " 58   GK Positioning    int64  \n",
      " 59   GK Reflexes       int64  \n",
      " 60   Total Stats       int64  \n",
      " 61   Base Stats        int64  \n",
      " 62   W/F               object \n",
      " 63   SM                object \n",
      " 64   A/W               object \n",
      " 65   D/W               object \n",
      " 66   IR                object \n",
      " 67   PAC               int64  \n",
      " 68   SHO               int64  \n",
      " 69   PAS               int64  \n",
      " 70   DRI               int64  \n",
      " 71   DEF               int64  \n",
      " 72   PHY               int64  \n",
      " 73   Hits              object \n",
      " 74   LS                object \n",
      " 75   ST                object \n",
      " 76   RS                object \n",
      " 77   LW                object \n",
      " 78   LF                object \n",
      " 79   CF                object \n",
      " 80   RF                object \n",
      " 81   RW                object \n",
      " 82   LAM               object \n",
      " 83   CAM               object \n",
      " 84   RAM               object \n",
      " 85   LM                object \n",
      " 86   LCM               object \n",
      " 87   CM                object \n",
      " 88   RCM               object \n",
      " 89   RM                object \n",
      " 90   LWB               object \n",
      " 91   LDM               object \n",
      " 92   CDM               object \n",
      " 93   RDM               object \n",
      " 94   RWB               object \n",
      " 95   LB                object \n",
      " 96   LCB               object \n",
      " 97   CB                object \n",
      " 98   RCB               object \n",
      " 99   RB                object \n",
      " 100  GK                object \n",
      " 101  OVA               int64  \n",
      "dtypes: float64(10), int64(44), object(48)\n",
      "memory usage: 10.7+ MB\n"
     ]
    }
   ],
   "source": [
    "df_fifa.info(102)\n",
    "#With the method we can obtain information about the type of variables "
   ]
  },
  {
   "cell_type": "code",
   "execution_count": 159,
   "id": "857e6791-27fc-471e-b119-df66e4f80404",
   "metadata": {},
   "outputs": [
    {
     "data": {
      "text/html": [
       "<div>\n",
       "<style scoped>\n",
       "    .dataframe tbody tr th:only-of-type {\n",
       "        vertical-align: middle;\n",
       "    }\n",
       "\n",
       "    .dataframe tbody tr th {\n",
       "        vertical-align: top;\n",
       "    }\n",
       "\n",
       "    .dataframe thead th {\n",
       "        text-align: right;\n",
       "    }\n",
       "</style>\n",
       "<table border=\"1\" class=\"dataframe\">\n",
       "  <thead>\n",
       "    <tr style=\"text-align: right;\">\n",
       "      <th></th>\n",
       "      <th>Height</th>\n",
       "    </tr>\n",
       "  </thead>\n",
       "  <tbody>\n",
       "    <tr>\n",
       "      <th>0</th>\n",
       "      <td>5'9\"</td>\n",
       "    </tr>\n",
       "    <tr>\n",
       "      <th>1</th>\n",
       "      <td>6'0\"</td>\n",
       "    </tr>\n",
       "    <tr>\n",
       "      <th>2</th>\n",
       "      <td>5'4\"</td>\n",
       "    </tr>\n",
       "    <tr>\n",
       "      <th>3</th>\n",
       "      <td>5'10\"</td>\n",
       "    </tr>\n",
       "    <tr>\n",
       "      <th>4</th>\n",
       "      <td>5'11\"</td>\n",
       "    </tr>\n",
       "    <tr>\n",
       "      <th>...</th>\n",
       "      <td>...</td>\n",
       "    </tr>\n",
       "    <tr>\n",
       "      <th>13695</th>\n",
       "      <td>5'8\"</td>\n",
       "    </tr>\n",
       "    <tr>\n",
       "      <th>13696</th>\n",
       "      <td>6'5\"</td>\n",
       "    </tr>\n",
       "    <tr>\n",
       "      <th>13697</th>\n",
       "      <td>5'7\"</td>\n",
       "    </tr>\n",
       "    <tr>\n",
       "      <th>13698</th>\n",
       "      <td>5'11\"</td>\n",
       "    </tr>\n",
       "    <tr>\n",
       "      <th>13699</th>\n",
       "      <td>5'10\"</td>\n",
       "    </tr>\n",
       "  </tbody>\n",
       "</table>\n",
       "<p>13700 rows × 1 columns</p>\n",
       "</div>"
      ],
      "text/plain": [
       "      Height\n",
       "0       5'9\"\n",
       "1       6'0\"\n",
       "2       5'4\"\n",
       "3      5'10\"\n",
       "4      5'11\"\n",
       "...      ...\n",
       "13695   5'8\"\n",
       "13696   6'5\"\n",
       "13697   5'7\"\n",
       "13698  5'11\"\n",
       "13699  5'10\"\n",
       "\n",
       "[13700 rows x 1 columns]"
      ]
     },
     "execution_count": 159,
     "metadata": {},
     "output_type": "execute_result"
    }
   ],
   "source": [
    "df_fifa[['Height']]"
   ]
  },
  {
   "cell_type": "code",
   "execution_count": 160,
   "id": "8dbd79a8-b38a-458b-82c2-67214af90aa0",
   "metadata": {},
   "outputs": [
    {
     "data": {
      "text/html": [
       "<div>\n",
       "<style scoped>\n",
       "    .dataframe tbody tr th:only-of-type {\n",
       "        vertical-align: middle;\n",
       "    }\n",
       "\n",
       "    .dataframe tbody tr th {\n",
       "        vertical-align: top;\n",
       "    }\n",
       "\n",
       "    .dataframe thead th {\n",
       "        text-align: right;\n",
       "    }\n",
       "</style>\n",
       "<table border=\"1\" class=\"dataframe\">\n",
       "  <thead>\n",
       "    <tr style=\"text-align: right;\">\n",
       "      <th></th>\n",
       "      <th>Weight</th>\n",
       "    </tr>\n",
       "  </thead>\n",
       "  <tbody>\n",
       "    <tr>\n",
       "      <th>0</th>\n",
       "      <td>161lbs</td>\n",
       "    </tr>\n",
       "    <tr>\n",
       "      <th>1</th>\n",
       "      <td>159lbs</td>\n",
       "    </tr>\n",
       "    <tr>\n",
       "      <th>2</th>\n",
       "      <td>134lbs</td>\n",
       "    </tr>\n",
       "    <tr>\n",
       "      <th>3</th>\n",
       "      <td>152lbs</td>\n",
       "    </tr>\n",
       "    <tr>\n",
       "      <th>4</th>\n",
       "      <td>150lbs</td>\n",
       "    </tr>\n",
       "    <tr>\n",
       "      <th>...</th>\n",
       "      <td>...</td>\n",
       "    </tr>\n",
       "    <tr>\n",
       "      <th>13695</th>\n",
       "      <td>143lbs</td>\n",
       "    </tr>\n",
       "    <tr>\n",
       "      <th>13696</th>\n",
       "      <td>176lbs</td>\n",
       "    </tr>\n",
       "    <tr>\n",
       "      <th>13697</th>\n",
       "      <td>146lbs</td>\n",
       "    </tr>\n",
       "    <tr>\n",
       "      <th>13698</th>\n",
       "      <td>176lbs</td>\n",
       "    </tr>\n",
       "    <tr>\n",
       "      <th>13699</th>\n",
       "      <td>150lbs</td>\n",
       "    </tr>\n",
       "  </tbody>\n",
       "</table>\n",
       "<p>13700 rows × 1 columns</p>\n",
       "</div>"
      ],
      "text/plain": [
       "       Weight\n",
       "0      161lbs\n",
       "1      159lbs\n",
       "2      134lbs\n",
       "3      152lbs\n",
       "4      150lbs\n",
       "...       ...\n",
       "13695  143lbs\n",
       "13696  176lbs\n",
       "13697  146lbs\n",
       "13698  176lbs\n",
       "13699  150lbs\n",
       "\n",
       "[13700 rows x 1 columns]"
      ]
     },
     "execution_count": 160,
     "metadata": {},
     "output_type": "execute_result"
    }
   ],
   "source": [
    "df_fifa[['Weight']]"
   ]
  },
  {
   "cell_type": "code",
   "execution_count": 161,
   "id": "da50f18b",
   "metadata": {},
   "outputs": [
    {
     "data": {
      "text/html": [
       "<div>\n",
       "<style scoped>\n",
       "    .dataframe tbody tr th:only-of-type {\n",
       "        vertical-align: middle;\n",
       "    }\n",
       "\n",
       "    .dataframe tbody tr th {\n",
       "        vertical-align: top;\n",
       "    }\n",
       "\n",
       "    .dataframe thead th {\n",
       "        text-align: right;\n",
       "    }\n",
       "</style>\n",
       "<table border=\"1\" class=\"dataframe\">\n",
       "  <thead>\n",
       "    <tr style=\"text-align: right;\">\n",
       "      <th></th>\n",
       "      <th>Height</th>\n",
       "      <th>Weight</th>\n",
       "    </tr>\n",
       "  </thead>\n",
       "  <tbody>\n",
       "    <tr>\n",
       "      <th>0</th>\n",
       "      <td>5'9\"</td>\n",
       "      <td>161lbs</td>\n",
       "    </tr>\n",
       "    <tr>\n",
       "      <th>1</th>\n",
       "      <td>6'0\"</td>\n",
       "      <td>159lbs</td>\n",
       "    </tr>\n",
       "    <tr>\n",
       "      <th>2</th>\n",
       "      <td>5'4\"</td>\n",
       "      <td>134lbs</td>\n",
       "    </tr>\n",
       "    <tr>\n",
       "      <th>3</th>\n",
       "      <td>5'10\"</td>\n",
       "      <td>152lbs</td>\n",
       "    </tr>\n",
       "    <tr>\n",
       "      <th>4</th>\n",
       "      <td>5'11\"</td>\n",
       "      <td>150lbs</td>\n",
       "    </tr>\n",
       "    <tr>\n",
       "      <th>...</th>\n",
       "      <td>...</td>\n",
       "      <td>...</td>\n",
       "    </tr>\n",
       "    <tr>\n",
       "      <th>13695</th>\n",
       "      <td>5'8\"</td>\n",
       "      <td>143lbs</td>\n",
       "    </tr>\n",
       "    <tr>\n",
       "      <th>13696</th>\n",
       "      <td>6'5\"</td>\n",
       "      <td>176lbs</td>\n",
       "    </tr>\n",
       "    <tr>\n",
       "      <th>13697</th>\n",
       "      <td>5'7\"</td>\n",
       "      <td>146lbs</td>\n",
       "    </tr>\n",
       "    <tr>\n",
       "      <th>13698</th>\n",
       "      <td>5'11\"</td>\n",
       "      <td>176lbs</td>\n",
       "    </tr>\n",
       "    <tr>\n",
       "      <th>13699</th>\n",
       "      <td>5'10\"</td>\n",
       "      <td>150lbs</td>\n",
       "    </tr>\n",
       "  </tbody>\n",
       "</table>\n",
       "<p>13700 rows × 2 columns</p>\n",
       "</div>"
      ],
      "text/plain": [
       "      Height  Weight\n",
       "0       5'9\"  161lbs\n",
       "1       6'0\"  159lbs\n",
       "2       5'4\"  134lbs\n",
       "3      5'10\"  152lbs\n",
       "4      5'11\"  150lbs\n",
       "...      ...     ...\n",
       "13695   5'8\"  143lbs\n",
       "13696   6'5\"  176lbs\n",
       "13697   5'7\"  146lbs\n",
       "13698  5'11\"  176lbs\n",
       "13699  5'10\"  150lbs\n",
       "\n",
       "[13700 rows x 2 columns]"
      ]
     },
     "execution_count": 161,
     "metadata": {},
     "output_type": "execute_result"
    }
   ],
   "source": [
    "df_fifa[['Height','Weight']]"
   ]
  },
  {
   "cell_type": "code",
   "execution_count": 162,
   "id": "8c8fe905",
   "metadata": {},
   "outputs": [
    {
     "data": {
      "text/html": [
       "<div>\n",
       "<style scoped>\n",
       "    .dataframe tbody tr th:only-of-type {\n",
       "        vertical-align: middle;\n",
       "    }\n",
       "\n",
       "    .dataframe tbody tr th {\n",
       "        vertical-align: top;\n",
       "    }\n",
       "\n",
       "    .dataframe thead th {\n",
       "        text-align: right;\n",
       "    }\n",
       "</style>\n",
       "<table border=\"1\" class=\"dataframe\">\n",
       "  <thead>\n",
       "    <tr style=\"text-align: right;\">\n",
       "      <th></th>\n",
       "      <th>Height</th>\n",
       "      <th>Weight</th>\n",
       "    </tr>\n",
       "  </thead>\n",
       "  <tbody>\n",
       "    <tr>\n",
       "      <th>0</th>\n",
       "      <td>175.26</td>\n",
       "      <td>161lbs</td>\n",
       "    </tr>\n",
       "    <tr>\n",
       "      <th>1</th>\n",
       "      <td>182.88</td>\n",
       "      <td>159lbs</td>\n",
       "    </tr>\n",
       "    <tr>\n",
       "      <th>2</th>\n",
       "      <td>162.56</td>\n",
       "      <td>134lbs</td>\n",
       "    </tr>\n",
       "    <tr>\n",
       "      <th>3</th>\n",
       "      <td>177.80</td>\n",
       "      <td>152lbs</td>\n",
       "    </tr>\n",
       "    <tr>\n",
       "      <th>4</th>\n",
       "      <td>180.34</td>\n",
       "      <td>150lbs</td>\n",
       "    </tr>\n",
       "    <tr>\n",
       "      <th>...</th>\n",
       "      <td>...</td>\n",
       "      <td>...</td>\n",
       "    </tr>\n",
       "    <tr>\n",
       "      <th>13695</th>\n",
       "      <td>172.72</td>\n",
       "      <td>143lbs</td>\n",
       "    </tr>\n",
       "    <tr>\n",
       "      <th>13696</th>\n",
       "      <td>195.58</td>\n",
       "      <td>176lbs</td>\n",
       "    </tr>\n",
       "    <tr>\n",
       "      <th>13697</th>\n",
       "      <td>170.18</td>\n",
       "      <td>146lbs</td>\n",
       "    </tr>\n",
       "    <tr>\n",
       "      <th>13698</th>\n",
       "      <td>180.34</td>\n",
       "      <td>176lbs</td>\n",
       "    </tr>\n",
       "    <tr>\n",
       "      <th>13699</th>\n",
       "      <td>177.80</td>\n",
       "      <td>150lbs</td>\n",
       "    </tr>\n",
       "  </tbody>\n",
       "</table>\n",
       "<p>13700 rows × 2 columns</p>\n",
       "</div>"
      ],
      "text/plain": [
       "       Height  Weight\n",
       "0      175.26  161lbs\n",
       "1      182.88  159lbs\n",
       "2      162.56  134lbs\n",
       "3      177.80  152lbs\n",
       "4      180.34  150lbs\n",
       "...       ...     ...\n",
       "13695  172.72  143lbs\n",
       "13696  195.58  176lbs\n",
       "13697  170.18  146lbs\n",
       "13698  180.34  176lbs\n",
       "13699  177.80  150lbs\n",
       "\n",
       "[13700 rows x 2 columns]"
      ]
     },
     "execution_count": 162,
     "metadata": {},
     "output_type": "execute_result"
    }
   ],
   "source": [
    "import re\n",
    "\n",
    "def height_to_cm(height):\n",
    "    match = re.match(r\"(\\d+)'(\\d+)\", height) \n",
    "    if match:\n",
    "        foots = int(match.group(1))\n",
    "        inches = int(match.group(2))\n",
    "        cms = foots * 30.48 + inches * 2.54 \n",
    "        return(cms)\n",
    "    return None\n",
    "\n",
    "df_fifa['Height'] = df_fifa['Height'].apply(height_to_cm)\n",
    "\n",
    "df_fifa[['Height','Weight']]"
   ]
  },
  {
   "cell_type": "code",
   "execution_count": 163,
   "id": "7b620dfc",
   "metadata": {},
   "outputs": [
    {
     "data": {
      "text/html": [
       "<div>\n",
       "<style scoped>\n",
       "    .dataframe tbody tr th:only-of-type {\n",
       "        vertical-align: middle;\n",
       "    }\n",
       "\n",
       "    .dataframe tbody tr th {\n",
       "        vertical-align: top;\n",
       "    }\n",
       "\n",
       "    .dataframe thead th {\n",
       "        text-align: right;\n",
       "    }\n",
       "</style>\n",
       "<table border=\"1\" class=\"dataframe\">\n",
       "  <thead>\n",
       "    <tr style=\"text-align: right;\">\n",
       "      <th></th>\n",
       "      <th>Height</th>\n",
       "      <th>Weight</th>\n",
       "    </tr>\n",
       "  </thead>\n",
       "  <tbody>\n",
       "    <tr>\n",
       "      <th>0</th>\n",
       "      <td>175.26</td>\n",
       "      <td>73.03</td>\n",
       "    </tr>\n",
       "    <tr>\n",
       "      <th>1</th>\n",
       "      <td>182.88</td>\n",
       "      <td>72.12</td>\n",
       "    </tr>\n",
       "    <tr>\n",
       "      <th>2</th>\n",
       "      <td>162.56</td>\n",
       "      <td>60.78</td>\n",
       "    </tr>\n",
       "    <tr>\n",
       "      <th>3</th>\n",
       "      <td>177.80</td>\n",
       "      <td>68.95</td>\n",
       "    </tr>\n",
       "    <tr>\n",
       "      <th>4</th>\n",
       "      <td>180.34</td>\n",
       "      <td>68.04</td>\n",
       "    </tr>\n",
       "    <tr>\n",
       "      <th>...</th>\n",
       "      <td>...</td>\n",
       "      <td>...</td>\n",
       "    </tr>\n",
       "    <tr>\n",
       "      <th>13695</th>\n",
       "      <td>172.72</td>\n",
       "      <td>64.86</td>\n",
       "    </tr>\n",
       "    <tr>\n",
       "      <th>13696</th>\n",
       "      <td>195.58</td>\n",
       "      <td>79.83</td>\n",
       "    </tr>\n",
       "    <tr>\n",
       "      <th>13697</th>\n",
       "      <td>170.18</td>\n",
       "      <td>66.22</td>\n",
       "    </tr>\n",
       "    <tr>\n",
       "      <th>13698</th>\n",
       "      <td>180.34</td>\n",
       "      <td>79.83</td>\n",
       "    </tr>\n",
       "    <tr>\n",
       "      <th>13699</th>\n",
       "      <td>177.80</td>\n",
       "      <td>68.04</td>\n",
       "    </tr>\n",
       "  </tbody>\n",
       "</table>\n",
       "<p>13700 rows × 2 columns</p>\n",
       "</div>"
      ],
      "text/plain": [
       "       Height  Weight\n",
       "0      175.26   73.03\n",
       "1      182.88   72.12\n",
       "2      162.56   60.78\n",
       "3      177.80   68.95\n",
       "4      180.34   68.04\n",
       "...       ...     ...\n",
       "13695  172.72   64.86\n",
       "13696  195.58   79.83\n",
       "13697  170.18   66.22\n",
       "13698  180.34   79.83\n",
       "13699  177.80   68.04\n",
       "\n",
       "[13700 rows x 2 columns]"
      ]
     },
     "execution_count": 163,
     "metadata": {},
     "output_type": "execute_result"
    }
   ],
   "source": [
    "import re\n",
    "\n",
    "def weight_to_kg(weight):\n",
    "    match = re.match(r\"(\\d+)lbs\", weight)  # Extraer el número\n",
    "    if match:\n",
    "        lbs = int(match.group(1))\n",
    "        return round(lbs * 0.453592, 2)  # Conversión\n",
    "    return None\n",
    "\n",
    "# Aplicar la función\n",
    "df_fifa['Weight'] = df_fifa['Weight'].apply(weight_to_kg)\n",
    "\n",
    "df_fifa[['Height','Weight']]"
   ]
  },
  {
   "cell_type": "code",
   "execution_count": 164,
   "id": "47468b34",
   "metadata": {},
   "outputs": [
    {
     "data": {
      "text/html": [
       "<div>\n",
       "<style scoped>\n",
       "    .dataframe tbody tr th:only-of-type {\n",
       "        vertical-align: middle;\n",
       "    }\n",
       "\n",
       "    .dataframe tbody tr th {\n",
       "        vertical-align: top;\n",
       "    }\n",
       "\n",
       "    .dataframe thead th {\n",
       "        text-align: right;\n",
       "    }\n",
       "</style>\n",
       "<table border=\"1\" class=\"dataframe\">\n",
       "  <thead>\n",
       "    <tr style=\"text-align: right;\">\n",
       "      <th></th>\n",
       "      <th>Unnamed: 0</th>\n",
       "      <th>ID</th>\n",
       "      <th>Name</th>\n",
       "      <th>Age</th>\n",
       "      <th>Nationality</th>\n",
       "      <th>Club</th>\n",
       "      <th>BP</th>\n",
       "      <th>Position</th>\n",
       "      <th>Team &amp; Contract</th>\n",
       "      <th>Height</th>\n",
       "      <th>...</th>\n",
       "      <th>CDM</th>\n",
       "      <th>RDM</th>\n",
       "      <th>RWB</th>\n",
       "      <th>LB</th>\n",
       "      <th>LCB</th>\n",
       "      <th>CB</th>\n",
       "      <th>RCB</th>\n",
       "      <th>RB</th>\n",
       "      <th>GK</th>\n",
       "      <th>OVA</th>\n",
       "    </tr>\n",
       "  </thead>\n",
       "  <tbody>\n",
       "    <tr>\n",
       "      <th>0</th>\n",
       "      <td>1954</td>\n",
       "      <td>184383</td>\n",
       "      <td>A. Pasche</td>\n",
       "      <td>26</td>\n",
       "      <td>Switzerland</td>\n",
       "      <td>FC Lausanne-Sport</td>\n",
       "      <td>CM</td>\n",
       "      <td>CM CDM</td>\n",
       "      <td>FC Lausanne-Sport 2015 ~ 2020</td>\n",
       "      <td>175.26</td>\n",
       "      <td>...</td>\n",
       "      <td>59+1</td>\n",
       "      <td>59+1</td>\n",
       "      <td>59+1</td>\n",
       "      <td>58+1</td>\n",
       "      <td>54+1</td>\n",
       "      <td>54+1</td>\n",
       "      <td>54+1</td>\n",
       "      <td>58+1</td>\n",
       "      <td>15+1</td>\n",
       "      <td>64</td>\n",
       "    </tr>\n",
       "    <tr>\n",
       "      <th>1</th>\n",
       "      <td>2225</td>\n",
       "      <td>188044</td>\n",
       "      <td>Alan Carvalho</td>\n",
       "      <td>30</td>\n",
       "      <td>China PR</td>\n",
       "      <td>Beijing Sinobo Guoan FC</td>\n",
       "      <td>ST</td>\n",
       "      <td>ST LW LM</td>\n",
       "      <td>Beijing Sinobo Guoan FC Dec 31, 2020 On Loan</td>\n",
       "      <td>182.88</td>\n",
       "      <td>...</td>\n",
       "      <td>53+2</td>\n",
       "      <td>53+2</td>\n",
       "      <td>57+2</td>\n",
       "      <td>53+2</td>\n",
       "      <td>48+2</td>\n",
       "      <td>48+2</td>\n",
       "      <td>48+2</td>\n",
       "      <td>53+2</td>\n",
       "      <td>18+2</td>\n",
       "      <td>77</td>\n",
       "    </tr>\n",
       "    <tr>\n",
       "      <th>2</th>\n",
       "      <td>1959</td>\n",
       "      <td>184431</td>\n",
       "      <td>S. Giovinco</td>\n",
       "      <td>33</td>\n",
       "      <td>Italy</td>\n",
       "      <td>Al Hilal</td>\n",
       "      <td>CAM</td>\n",
       "      <td>CAM CF</td>\n",
       "      <td>Al Hilal 2019 ~ 2022</td>\n",
       "      <td>162.56</td>\n",
       "      <td>...</td>\n",
       "      <td>56+2</td>\n",
       "      <td>56+2</td>\n",
       "      <td>59+2</td>\n",
       "      <td>53+2</td>\n",
       "      <td>41+2</td>\n",
       "      <td>41+2</td>\n",
       "      <td>41+2</td>\n",
       "      <td>53+2</td>\n",
       "      <td>12+2</td>\n",
       "      <td>80</td>\n",
       "    </tr>\n",
       "    <tr>\n",
       "      <th>3</th>\n",
       "      <td>9815</td>\n",
       "      <td>233796</td>\n",
       "      <td>J. Evans</td>\n",
       "      <td>22</td>\n",
       "      <td>Wales</td>\n",
       "      <td>Swansea City</td>\n",
       "      <td>CDM</td>\n",
       "      <td>CDM CM</td>\n",
       "      <td>Swansea City 2016 ~ 2021</td>\n",
       "      <td>177.80</td>\n",
       "      <td>...</td>\n",
       "      <td>58+2</td>\n",
       "      <td>58+2</td>\n",
       "      <td>56+2</td>\n",
       "      <td>57+2</td>\n",
       "      <td>58+2</td>\n",
       "      <td>58+2</td>\n",
       "      <td>58+2</td>\n",
       "      <td>57+2</td>\n",
       "      <td>14+2</td>\n",
       "      <td>59</td>\n",
       "    </tr>\n",
       "    <tr>\n",
       "      <th>4</th>\n",
       "      <td>10074</td>\n",
       "      <td>234799</td>\n",
       "      <td>Y. Demoncy</td>\n",
       "      <td>23</td>\n",
       "      <td>France</td>\n",
       "      <td>US Orléans Loiret Football</td>\n",
       "      <td>CDM</td>\n",
       "      <td>CDM CM</td>\n",
       "      <td>US Orléans Loiret Football 2018 ~ 2021</td>\n",
       "      <td>180.34</td>\n",
       "      <td>...</td>\n",
       "      <td>64+2</td>\n",
       "      <td>64+2</td>\n",
       "      <td>64+2</td>\n",
       "      <td>63+2</td>\n",
       "      <td>61+2</td>\n",
       "      <td>61+2</td>\n",
       "      <td>61+2</td>\n",
       "      <td>63+2</td>\n",
       "      <td>15+2</td>\n",
       "      <td>65</td>\n",
       "    </tr>\n",
       "  </tbody>\n",
       "</table>\n",
       "<p>5 rows × 102 columns</p>\n",
       "</div>"
      ],
      "text/plain": [
       "   Unnamed: 0      ID           Name  Age  Nationality  \\\n",
       "0        1954  184383      A. Pasche   26  Switzerland   \n",
       "1        2225  188044  Alan Carvalho   30     China PR   \n",
       "2        1959  184431    S. Giovinco   33        Italy   \n",
       "3        9815  233796       J. Evans   22        Wales   \n",
       "4       10074  234799     Y. Demoncy   23       France   \n",
       "\n",
       "                         Club   BP  Position  \\\n",
       "0           FC Lausanne-Sport   CM    CM CDM   \n",
       "1     Beijing Sinobo Guoan FC   ST  ST LW LM   \n",
       "2                    Al Hilal  CAM    CAM CF   \n",
       "3                Swansea City  CDM    CDM CM   \n",
       "4  US Orléans Loiret Football  CDM    CDM CM   \n",
       "\n",
       "                                Team & Contract  Height  ...   CDM   RDM  \\\n",
       "0                 FC Lausanne-Sport 2015 ~ 2020  175.26  ...  59+1  59+1   \n",
       "1  Beijing Sinobo Guoan FC Dec 31, 2020 On Loan  182.88  ...  53+2  53+2   \n",
       "2                          Al Hilal 2019 ~ 2022  162.56  ...  56+2  56+2   \n",
       "3                      Swansea City 2016 ~ 2021  177.80  ...  58+2  58+2   \n",
       "4        US Orléans Loiret Football 2018 ~ 2021  180.34  ...  64+2  64+2   \n",
       "\n",
       "    RWB    LB   LCB    CB   RCB    RB    GK  OVA  \n",
       "0  59+1  58+1  54+1  54+1  54+1  58+1  15+1   64  \n",
       "1  57+2  53+2  48+2  48+2  48+2  53+2  18+2   77  \n",
       "2  59+2  53+2  41+2  41+2  41+2  53+2  12+2   80  \n",
       "3  56+2  57+2  58+2  58+2  58+2  57+2  14+2   59  \n",
       "4  64+2  63+2  61+2  61+2  61+2  63+2  15+2   65  \n",
       "\n",
       "[5 rows x 102 columns]"
      ]
     },
     "execution_count": 164,
     "metadata": {},
     "output_type": "execute_result"
    }
   ],
   "source": [
    "df_fifa.head()"
   ]
  },
  {
   "cell_type": "code",
   "execution_count": 165,
   "id": "2a33b4b4",
   "metadata": {},
   "outputs": [
    {
     "data": {
      "text/html": [
       "<div>\n",
       "<style scoped>\n",
       "    .dataframe tbody tr th:only-of-type {\n",
       "        vertical-align: middle;\n",
       "    }\n",
       "\n",
       "    .dataframe tbody tr th {\n",
       "        vertical-align: top;\n",
       "    }\n",
       "\n",
       "    .dataframe thead th {\n",
       "        text-align: right;\n",
       "    }\n",
       "</style>\n",
       "<table border=\"1\" class=\"dataframe\">\n",
       "  <thead>\n",
       "    <tr style=\"text-align: right;\">\n",
       "      <th></th>\n",
       "      <th>Unnamed: 0</th>\n",
       "      <th>ID</th>\n",
       "      <th>Name</th>\n",
       "      <th>Age</th>\n",
       "      <th>Nationality</th>\n",
       "      <th>Club</th>\n",
       "      <th>BP</th>\n",
       "      <th>Position</th>\n",
       "      <th>Team &amp; Contract</th>\n",
       "      <th>Height</th>\n",
       "      <th>...</th>\n",
       "      <th>CDM</th>\n",
       "      <th>RDM</th>\n",
       "      <th>RWB</th>\n",
       "      <th>LB</th>\n",
       "      <th>LCB</th>\n",
       "      <th>CB</th>\n",
       "      <th>RCB</th>\n",
       "      <th>RB</th>\n",
       "      <th>GK</th>\n",
       "      <th>OVA</th>\n",
       "    </tr>\n",
       "  </thead>\n",
       "  <tbody>\n",
       "    <tr>\n",
       "      <th>0</th>\n",
       "      <td>1954</td>\n",
       "      <td>184383</td>\n",
       "      <td>A. Pasche</td>\n",
       "      <td>26</td>\n",
       "      <td>Switzerland</td>\n",
       "      <td>FC Lausanne-Sport</td>\n",
       "      <td>CM</td>\n",
       "      <td>CM CDM</td>\n",
       "      <td>FC Lausanne-Sport 2015 ~ 2020</td>\n",
       "      <td>175.26</td>\n",
       "      <td>...</td>\n",
       "      <td>59</td>\n",
       "      <td>59</td>\n",
       "      <td>59</td>\n",
       "      <td>58</td>\n",
       "      <td>54</td>\n",
       "      <td>54</td>\n",
       "      <td>54</td>\n",
       "      <td>58</td>\n",
       "      <td>15</td>\n",
       "      <td>64</td>\n",
       "    </tr>\n",
       "    <tr>\n",
       "      <th>1</th>\n",
       "      <td>2225</td>\n",
       "      <td>188044</td>\n",
       "      <td>Alan Carvalho</td>\n",
       "      <td>30</td>\n",
       "      <td>China PR</td>\n",
       "      <td>Beijing Sinobo Guoan FC</td>\n",
       "      <td>ST</td>\n",
       "      <td>ST LW LM</td>\n",
       "      <td>Beijing Sinobo Guoan FC Dec 31, 2020 On Loan</td>\n",
       "      <td>182.88</td>\n",
       "      <td>...</td>\n",
       "      <td>53</td>\n",
       "      <td>53</td>\n",
       "      <td>57</td>\n",
       "      <td>53</td>\n",
       "      <td>48</td>\n",
       "      <td>48</td>\n",
       "      <td>48</td>\n",
       "      <td>53</td>\n",
       "      <td>18</td>\n",
       "      <td>77</td>\n",
       "    </tr>\n",
       "    <tr>\n",
       "      <th>2</th>\n",
       "      <td>1959</td>\n",
       "      <td>184431</td>\n",
       "      <td>S. Giovinco</td>\n",
       "      <td>33</td>\n",
       "      <td>Italy</td>\n",
       "      <td>Al Hilal</td>\n",
       "      <td>CAM</td>\n",
       "      <td>CAM CF</td>\n",
       "      <td>Al Hilal 2019 ~ 2022</td>\n",
       "      <td>162.56</td>\n",
       "      <td>...</td>\n",
       "      <td>56</td>\n",
       "      <td>56</td>\n",
       "      <td>59</td>\n",
       "      <td>53</td>\n",
       "      <td>41</td>\n",
       "      <td>41</td>\n",
       "      <td>41</td>\n",
       "      <td>53</td>\n",
       "      <td>12</td>\n",
       "      <td>80</td>\n",
       "    </tr>\n",
       "    <tr>\n",
       "      <th>3</th>\n",
       "      <td>9815</td>\n",
       "      <td>233796</td>\n",
       "      <td>J. Evans</td>\n",
       "      <td>22</td>\n",
       "      <td>Wales</td>\n",
       "      <td>Swansea City</td>\n",
       "      <td>CDM</td>\n",
       "      <td>CDM CM</td>\n",
       "      <td>Swansea City 2016 ~ 2021</td>\n",
       "      <td>177.80</td>\n",
       "      <td>...</td>\n",
       "      <td>58</td>\n",
       "      <td>58</td>\n",
       "      <td>56</td>\n",
       "      <td>57</td>\n",
       "      <td>58</td>\n",
       "      <td>58</td>\n",
       "      <td>58</td>\n",
       "      <td>57</td>\n",
       "      <td>14</td>\n",
       "      <td>59</td>\n",
       "    </tr>\n",
       "    <tr>\n",
       "      <th>4</th>\n",
       "      <td>10074</td>\n",
       "      <td>234799</td>\n",
       "      <td>Y. Demoncy</td>\n",
       "      <td>23</td>\n",
       "      <td>France</td>\n",
       "      <td>US Orléans Loiret Football</td>\n",
       "      <td>CDM</td>\n",
       "      <td>CDM CM</td>\n",
       "      <td>US Orléans Loiret Football 2018 ~ 2021</td>\n",
       "      <td>180.34</td>\n",
       "      <td>...</td>\n",
       "      <td>64</td>\n",
       "      <td>64</td>\n",
       "      <td>64</td>\n",
       "      <td>63</td>\n",
       "      <td>61</td>\n",
       "      <td>61</td>\n",
       "      <td>61</td>\n",
       "      <td>63</td>\n",
       "      <td>15</td>\n",
       "      <td>65</td>\n",
       "    </tr>\n",
       "  </tbody>\n",
       "</table>\n",
       "<p>5 rows × 102 columns</p>\n",
       "</div>"
      ],
      "text/plain": [
       "   Unnamed: 0      ID           Name  Age  Nationality  \\\n",
       "0        1954  184383      A. Pasche   26  Switzerland   \n",
       "1        2225  188044  Alan Carvalho   30     China PR   \n",
       "2        1959  184431    S. Giovinco   33        Italy   \n",
       "3        9815  233796       J. Evans   22        Wales   \n",
       "4       10074  234799     Y. Demoncy   23       France   \n",
       "\n",
       "                         Club   BP  Position  \\\n",
       "0           FC Lausanne-Sport   CM    CM CDM   \n",
       "1     Beijing Sinobo Guoan FC   ST  ST LW LM   \n",
       "2                    Al Hilal  CAM    CAM CF   \n",
       "3                Swansea City  CDM    CDM CM   \n",
       "4  US Orléans Loiret Football  CDM    CDM CM   \n",
       "\n",
       "                                Team & Contract  Height  ...  CDM RDM  RWB  \\\n",
       "0                 FC Lausanne-Sport 2015 ~ 2020  175.26  ...   59  59   59   \n",
       "1  Beijing Sinobo Guoan FC Dec 31, 2020 On Loan  182.88  ...   53  53   57   \n",
       "2                          Al Hilal 2019 ~ 2022  162.56  ...   56  56   59   \n",
       "3                      Swansea City 2016 ~ 2021  177.80  ...   58  58   56   \n",
       "4        US Orléans Loiret Football 2018 ~ 2021  180.34  ...   64  64   64   \n",
       "\n",
       "   LB LCB  CB RCB  RB  GK  OVA  \n",
       "0  58  54  54  54  58  15   64  \n",
       "1  53  48  48  48  53  18   77  \n",
       "2  53  41  41  41  53  12   80  \n",
       "3  57  58  58  58  57  14   59  \n",
       "4  63  61  61  61  63  15   65  \n",
       "\n",
       "[5 rows x 102 columns]"
      ]
     },
     "execution_count": 165,
     "metadata": {},
     "output_type": "execute_result"
    }
   ],
   "source": [
    "df_fifa = df_fifa.replace(r'\\+\\d+', '', regex=True)\n",
    "\n",
    "# Ver las primeras filas para confirmar el cambio\n",
    "df_fifa.head()"
   ]
  },
  {
   "cell_type": "code",
   "execution_count": 166,
   "id": "378354ea",
   "metadata": {},
   "outputs": [
    {
     "name": "stdout",
     "output_type": "stream",
     "text": [
      "   W/F  SM   IR\n",
      "0  4 ★  2★  1 ★\n",
      "1  3 ★  4★  2 ★\n",
      "2  4 ★  4★  2 ★\n",
      "3  2 ★  2★  1 ★\n",
      "4  2 ★  3★  1 ★\n"
     ]
    }
   ],
   "source": [
    "print(df_fifa[['W/F', 'SM', 'IR']].head())\n"
   ]
  },
  {
   "cell_type": "code",
   "execution_count": 167,
   "id": "cce434e3",
   "metadata": {},
   "outputs": [
    {
     "name": "stdout",
     "output_type": "stream",
     "text": [
      "  W/F SM IR\n",
      "0   4  2  1\n",
      "1   3  4  2\n",
      "2   4  4  2\n",
      "3   2  2  1\n",
      "4   2  3  1\n"
     ]
    }
   ],
   "source": [
    "df_fifa.replace({' ★': '', '★': ''}, regex=True, inplace=True)\n",
    "print(df_fifa[['W/F', 'SM', 'IR']].head())  "
   ]
  },
  {
   "cell_type": "code",
   "execution_count": 168,
   "id": "3f573ffb",
   "metadata": {},
   "outputs": [
    {
     "name": "stdout",
     "output_type": "stream",
     "text": [
      "['4' '3' '2' '5' '1']\n",
      "['2' '4' '3' '1' '5']\n",
      "['1' '2' '3' '5' '4']\n"
     ]
    }
   ],
   "source": [
    "print(df_fifa['W/F'].unique())\n",
    "print(df_fifa['SM'].unique())   \n",
    "print(df_fifa['IR'].unique())   "
   ]
  },
  {
   "cell_type": "code",
   "execution_count": 169,
   "id": "1d6866ed",
   "metadata": {},
   "outputs": [
    {
     "name": "stdout",
     "output_type": "stream",
     "text": [
      "0: Unnamed: 0\n",
      "1: ID\n",
      "2: Name\n",
      "3: Age\n",
      "4: Nationality\n",
      "5: Club\n",
      "6: BP\n",
      "7: Position\n",
      "8: Team & Contract\n",
      "9: Height\n",
      "10: Weight\n",
      "11: foot\n",
      "12: Growth\n",
      "13: Joined\n",
      "14: Loan Date End\n",
      "15: Value\n",
      "16: Wage\n",
      "17: Release Clause\n",
      "18: Contract\n",
      "19: Attacking\n",
      "20: Crossing\n",
      "21: Finishing\n",
      "22: Heading Accuracy\n",
      "23: Short Passing\n",
      "24: Volleys\n",
      "25: Skill\n",
      "26: Dribbling\n",
      "27: Curve\n",
      "28: FK Accuracy\n",
      "29: Long Passing\n",
      "30: Ball Control\n",
      "31: Movement\n",
      "32: Acceleration\n",
      "33: Sprint Speed\n",
      "34: Agility\n",
      "35: Reactions\n",
      "36: Balance\n",
      "37: Power\n",
      "38: Shot Power\n",
      "39: Jumping\n",
      "40: Stamina\n",
      "41: Strength\n",
      "42: Long Shots\n",
      "43: Mentality\n",
      "44: Aggression\n",
      "45: Interceptions\n",
      "46: Positioning\n",
      "47: Vision\n",
      "48: Penalties\n",
      "49: Composure\n",
      "50: Defending\n",
      "51: Marking\n",
      "52: Standing Tackle\n",
      "53: Sliding Tackle\n",
      "54: Goalkeeping\n",
      "55: GK Diving\n",
      "56: GK Handling\n",
      "57: GK Kicking\n",
      "58: GK Positioning\n",
      "59: GK Reflexes\n",
      "60: Total Stats\n",
      "61: Base Stats\n",
      "62: W/F\n",
      "63: SM\n",
      "64: A/W\n",
      "65: D/W\n",
      "66: IR\n",
      "67: PAC\n",
      "68: SHO\n",
      "69: PAS\n",
      "70: DRI\n",
      "71: DEF\n",
      "72: PHY\n",
      "73: Hits\n",
      "74: LS\n",
      "75: ST\n",
      "76: RS\n",
      "77: LW\n",
      "78: LF\n",
      "79: CF\n",
      "80: RF\n",
      "81: RW\n",
      "82: LAM\n",
      "83: CAM\n",
      "84: RAM\n",
      "85: LM\n",
      "86: LCM\n",
      "87: CM\n",
      "88: RCM\n",
      "89: RM\n",
      "90: LWB\n",
      "91: LDM\n",
      "92: CDM\n",
      "93: RDM\n",
      "94: RWB\n",
      "95: LB\n",
      "96: LCB\n",
      "97: CB\n",
      "98: RCB\n",
      "99: RB\n",
      "100: GK\n",
      "101: OVA\n"
     ]
    }
   ],
   "source": [
    "for i, col in enumerate(df_fifa.columns):\n",
    "    print(f\"{i}: {col}\")\n"
   ]
  },
  {
   "cell_type": "code",
   "execution_count": 170,
   "id": "e7ae86cb",
   "metadata": {},
   "outputs": [
    {
     "name": "stdout",
     "output_type": "stream",
     "text": [
      "    BP\n",
      "0   CM\n",
      "1   ST\n",
      "2  CAM\n",
      "3  CDM\n",
      "4  CDM\n"
     ]
    }
   ],
   "source": [
    "print(df_fifa[['BP']].head())\n"
   ]
  },
  {
   "cell_type": "code",
   "execution_count": 171,
   "id": "f18b996f",
   "metadata": {},
   "outputs": [
    {
     "name": "stdout",
     "output_type": "stream",
     "text": [
      "    BP Posición General\n",
      "0   CM    Mediocampista\n",
      "1   ST        Delantero\n",
      "2  CAM    Mediocampista\n",
      "3  CDM    Mediocampista\n",
      "4  CDM    Mediocampista\n",
      "5   LM    Mediocampista\n",
      "6   RB          Defensa\n",
      "7   LM    Mediocampista\n",
      "8   CB          Defensa\n",
      "9   CB          Defensa\n",
      "Posición General\n",
      "Mediocampista    5359\n",
      "Defensa          4405\n",
      "Delantero        2655\n",
      "Portero          1281\n",
      "Name: count, dtype: int64\n"
     ]
    }
   ],
   "source": [
    "def posiciones_jugadores(bp):\n",
    "    \"\"\"Asigna una posición general basada en la mejor posición del jugador (BP).\"\"\"\n",
    "    posiciones = {\n",
    "        'GK': 'Portero',\n",
    "        'RB': 'Defensa', 'CB': 'Defensa', 'LB': 'Defensa',\n",
    "        'RWB': 'Defensa', 'LWB': 'Defensa',\n",
    "        'CM': 'Mediocampista', 'CAM': 'Mediocampista', 'CDM': 'Mediocampista',\n",
    "        'LM': 'Mediocampista', 'RM': 'Mediocampista',\n",
    "        'ST': 'Delantero', 'RW': 'Delantero', 'LW': 'Delantero', 'CF': 'Delantero'\n",
    "    }\n",
    "    return posiciones.get(bp, 'Desconocido')  # Si BP no está en el diccionario, asigna 'Desconocido'\n",
    "df_fifa['Posición General'] = df_fifa['BP'].apply(posiciones_jugadores)\n",
    "\n",
    "print(df_fifa[['BP', 'Posición General']].head(10))\n",
    "print(df_fifa['Posición General'].value_counts())  # Contar cuántos jugadores hay en cada categoría\n",
    "\n",
    "\n"
   ]
  },
  {
   "cell_type": "code",
   "execution_count": 172,
   "id": "b889157d",
   "metadata": {},
   "outputs": [
    {
     "name": "stdout",
     "output_type": "stream",
     "text": [
      "['Mediocampista' 'Delantero' 'Defensa' 'Portero']\n"
     ]
    }
   ],
   "source": [
    "print(df_fifa['Posición General'].unique())\n"
   ]
  },
  {
   "cell_type": "code",
   "execution_count": 173,
   "id": "5c7d494f",
   "metadata": {},
   "outputs": [
    {
     "name": "stdout",
     "output_type": "stream",
     "text": [
      "['€525K' '€8.5M' '€9M' '€275K' '€725K' '€1.4M' '€6M' '€300K' '€210K'\n",
      " '€220K' '€625K' '€650K' '€800K' '€5M' '€130K' '€1.1M' '€325K' '€825K'\n",
      " '€500K' '€350K' '€1M' '€475K' '€160K' '€675K' '€14.5M' '€900K' '€0'\n",
      " '€425K' '€450K' '€60K' '€10M' '€1.8M' '€750K' '€700K' '€1.5M' '€16.5M'\n",
      " '€6.5M' '€180K' '€2.6M' '€41M' '€600K' '€200K' '€3.2M' '€44M' '€2.7M'\n",
      " '€4.5M' '€875K' '€7.5M' '€110K' '€11.5M' '€975K' '€2.3M' '€550K' '€170K'\n",
      " '€850K' '€925K' '€775K' '€80K' '€3.3M' '€575K' '€375K' '€1.3M' '€1.2M'\n",
      " '€3.5M' '€1.9M' '€190K' '€250K' '€19.5M' '€100K' '€90K' '€5.5M' '€4.2M'\n",
      " '€140K' '€400K' '€2.9M' '€4.4M' '€2M' '€240K' '€4.6M' '€230K' '€7M'\n",
      " '€2.8M' '€13.5M' '€4.3M' '€8M' '€4.8M' '€20.5M' '€150K' '€9.5M' '€2.1M'\n",
      " '€120K' '€3.6M' '€15.5M' '€12.5M' '€3.4M' '€2.5M' '€1.7M' '€41.5M'\n",
      " '€1.6M' '€2.4M' '€13M' '€14M' '€3.9M' '€3M' '€12M' '€15M' '€950K' '€4M'\n",
      " '€10.5M' '€3.8M' '€70K' '€2.2M' '€28.5M' '€50K' '€25K' '€3.1M' '€23M'\n",
      " '€30M' '€4.9M' '€34.5M' '€31.5M' '€25.5M' '€4.7M' '€18.5M' '€42M' '€34M'\n",
      " '€49.5M' '€22M' '€27M' '€53M' '€21M' '€16M' '€3.7M' '€30K' '€20M' '€26M'\n",
      " '€4.1M' '€11M' '€50M' '€45K' '€24M' '€56M' '€45M' '€22.5M' '€17.5M'\n",
      " '€23.5M' '€8K' '€19M' '€40K' '€17M' '€30.5M' '€44.5M' '€39M' '€20K'\n",
      " '€38M' '€80M' '€21.5M' '€18M' '€26.5M' '€31M' '€35K' '€25M' '€35M' '€60M'\n",
      " '€5K' '€50.5M' '€35.5M' '€65M' '€27.5M' '€29M' '€72.5M' '€52M' '€47.5M'\n",
      " '€28M' '€90M' '€37.5M' '€32.5M' '€40.5M' '€24.5M' '€67.5M' '€69.5M'\n",
      " '€33M' '€36M' '€57M' '€15K' '€1K' '€71M' '€32M' '€46M' '€46.5M' '€36.5M'\n",
      " '€63M' '€29.5M' '€87M' '€48.5M' '€52.5M' '€51.5M' '€59.5M' '€39.5M'\n",
      " '€58M' '€55M' '€33.5M' '€62.5M' '€75M' '€3K' '€54.5M' '€38.5M' '€78M'\n",
      " '€53.5M' '€37M']\n",
      "['€4K' '€23K' '€49K' '€2K' '€11K' '€28K' '€800' '€500' '€3K' '€9K' '€6K'\n",
      " '€900' '€8K' '€14K' '€16K' '€17K' '€0' '€950' '€7K' '€1K' '€12K' '€15K'\n",
      " '€5K' '€75K' '€750' '€98K' '€22K' '€140K' '€85K' '€37K' '€10K' '€550'\n",
      " '€600' '€26K' '€25K' '€21K' '€18K' '€20K' '€13K' '€115K' '€70K' '€40K'\n",
      " '€46K' '€51K' '€45K' '€57K' '€50K' '€55K' '€65K' '€27K' '€78K' '€77K'\n",
      " '€19K' '€700' '€34K' '€30K' '€42K' '€44K' '€32K' '€62K' '€850' '€76K'\n",
      " '€100K' '€60K' '€84K' '€33K' '€39K' '€650' '€35K' '€24K' '€82K' '€31K'\n",
      " '€48K' '€210K' '€105K' '€36K' '€130K' '€41K' '€135K' '€79K' '€29K'\n",
      " '€150K' '€69K' '€63K' '€43K' '€53K' '€68K' '€56K' '€80K' '€125K' '€64K'\n",
      " '€200K' '€58K' '€110K' '€73K' '€71K' '€38K' '€66K' '€59K' '€47K' '€54K'\n",
      " '€170K' '€190K' '€90K' '€74K' '€230K' '€240K' '€96K' '€97K' '€93K'\n",
      " '€160K' '€61K' '€67K' '€81K' '€87K' '€290K' '€145K' '€175K' '€95K'\n",
      " '€270K' '€72K' '€120K' '€86K' '€52K' '€99K' '€560K' '€260K' '€91K' '€83K'\n",
      " '€300K' '€220K' '€250' '€195K' '€370K' '€165K' '€92K' '€310K' '€350K'\n",
      " '€94K' '€89K' '€250K' '€155K']\n"
     ]
    }
   ],
   "source": [
    "print(df_fifa['Value'].unique())\n",
    "print(df_fifa['Wage'].unique())\n"
   ]
  },
  {
   "cell_type": "code",
   "execution_count": 174,
   "id": "2afa90e7",
   "metadata": {},
   "outputs": [
    {
     "name": "stdout",
     "output_type": "stream",
     "text": [
      "     Value   Wage\n",
      "0   525000   4000\n",
      "1  8500000  23000\n",
      "2  9000000  49000\n",
      "3   275000   4000\n",
      "4   725000   2000\n",
      "5  1400000  11000\n",
      "6  6000000  28000\n",
      "7   300000    800\n",
      "8   210000   2000\n",
      "9   220000   4000\n",
      "Unnamed: 0           int64\n",
      "ID                   int64\n",
      "Name                object\n",
      "Age                  int64\n",
      "Nationality         object\n",
      "                     ...  \n",
      "RCB                 object\n",
      "RB                  object\n",
      "GK                  object\n",
      "OVA                  int64\n",
      "Posición General    object\n",
      "Length: 103, dtype: object\n"
     ]
    }
   ],
   "source": [
    "import pandas as pd\n",
    "\n",
    "# Función para convertir valores monetarios en enteros\n",
    "def convertir_valores(valor):\n",
    "    if isinstance(valor, str):\n",
    "        valor = valor.replace('€', '')\n",
    "        if 'M' in valor:\n",
    "            return int(float(valor.replace('M', '')) * 1_000_000)\n",
    "        elif 'K' in valor:\n",
    "            return int(float(valor.replace('K', '')) * 1_000)\n",
    "        else:\n",
    "            return int(valor)\n",
    "    return 0\n",
    "\n",
    "# Aplicar la conversión a las columnas Value y Wage\n",
    "df_fifa['Value'] = df_fifa['Value'].apply(convertir_valores)\n",
    "df_fifa['Wage'] = df_fifa['Wage'].apply(convertir_valores)\n",
    "\n",
    "# Verificar la transformación\n",
    "print(df_fifa[['Value', 'Wage']].head(10))\n",
    "print(df_fifa.dtypes)\n",
    "\n"
   ]
  },
  {
   "cell_type": "code",
   "execution_count": 175,
   "id": "1dc35e3a",
   "metadata": {},
   "outputs": [
    {
     "name": "stdout",
     "output_type": "stream",
     "text": [
      "Club                 21\n",
      "Position            343\n",
      "Joined               44\n",
      "Loan Date End     12961\n",
      "Volleys              44\n",
      "Curve                44\n",
      "Agility              44\n",
      "Balance              44\n",
      "Jumping              44\n",
      "Interceptions         7\n",
      "Positioning           7\n",
      "Vision               44\n",
      "Composure           329\n",
      "Sliding Tackle       44\n",
      "A/W                  67\n",
      "D/W                  67\n",
      "dtype: int64\n"
     ]
    }
   ],
   "source": [
    "print(df_fifa.isnull().sum()[df_fifa.isnull().sum() > 0])"
   ]
  },
  {
   "cell_type": "code",
   "execution_count": 176,
   "id": "91c0e5be",
   "metadata": {},
   "outputs": [
    {
     "name": "stdout",
     "output_type": "stream",
     "text": [
      "[52. 33. 26. 57. 60. 38. 77. 69. 67. 70. 20. 56. 25. 16. 68. 21. 65.  8.\n",
      " 18. 22. 35. 17. 41. 63. 23. 29. 40. 32. 42. 15. 19. 59. 30. 74. 50. 27.\n",
      " 72. 81. 13. 62. 31. 86. 43. 64. 10. 37. 28. 51. 39. 44. 53. 66. 79. 73.\n",
      " 11. 61. 75. 78. 48. 55. 49. 24. 76. 58. 45. 71. 14. 84. 54. 36.  7. 47.\n",
      " 12. 34.  6. 85. 80. 82.  9. 46. 89. 90. 83. 87. nan 91.  5. 88. 95.  4.]\n"
     ]
    }
   ],
   "source": [
    "print(df_fifa['Interceptions'].unique())\n"
   ]
  },
  {
   "cell_type": "code",
   "execution_count": 177,
   "id": "0d9ff223",
   "metadata": {},
   "outputs": [
    {
     "name": "stdout",
     "output_type": "stream",
     "text": [
      "Unnamed: 0          0\n",
      "ID                  0\n",
      "Name                0\n",
      "Age                 0\n",
      "Nationality         0\n",
      "                   ..\n",
      "RCB                 0\n",
      "RB                  0\n",
      "GK                  0\n",
      "OVA                 0\n",
      "Posición General    0\n",
      "Length: 102, dtype: int64\n"
     ]
    }
   ],
   "source": [
    "# 1️⃣ Imputar \"Sin Club\" en jugadores sin equipo\n",
    "df_fifa['Club'] = df_fifa['Club'].fillna('Sin Club')\n",
    "\n",
    "# 2️⃣ Imputar \"Unknown\" en posiciones vacías (o eliminar si es necesario)\n",
    "df_fifa['Position'] = df_fifa['Position'].fillna('Unknown')\n",
    "\n",
    "# 3️⃣ Imputar \"Desconocido\" en la fecha de ingreso\n",
    "df_fifa['Joined'] = df_fifa['Joined'].fillna('Desconocido')\n",
    "\n",
    "# 4️⃣ Eliminar la columna \"Loan Date End\" (casi todos son nulos)\n",
    "df_fifa = df_fifa.drop(columns=['Loan Date End'])\n",
    "\n",
    "# 5️⃣ Imputar atributos técnicos con la media\n",
    "cols_media = ['Volleys', 'Curve', 'Agility', 'Balance', 'Jumping', 'Vision', 'Composure', 'Sliding Tackle']\n",
    "df_fifa[cols_media] = df_fifa[cols_media].apply(lambda x: x.fillna(x.mean()))\n",
    "\n",
    "# 6️⃣ Imputar \"Interceptions\" y \"Positioning\" con la media por posición\n",
    "df_fifa['Interceptions'] = df_fifa.groupby('Posición General')['Interceptions'].transform(lambda x: x.fillna(x.mean()))\n",
    "df_fifa['Positioning'] = df_fifa.groupby('Posición General')['Positioning'].transform(lambda x: x.fillna(x.mean()))\n",
    "\n",
    "# 7️⃣ Imputar \"A/W\" y \"D/W\" con la moda (valor más común)\n",
    "df_fifa['A/W'] = df_fifa['A/W'].fillna(df_fifa['A/W'].mode()[0])\n",
    "df_fifa['D/W'] = df_fifa['D/W'].fillna(df_fifa['D/W'].mode()[0])\n",
    "\n",
    "# Verificar si quedan valores nulos\n",
    "print(df_fifa.isnull().sum())\n"
   ]
  },
  {
   "cell_type": "code",
   "execution_count": 178,
   "id": "76aed0b3",
   "metadata": {},
   "outputs": [
    {
     "name": "stdout",
     "output_type": "stream",
     "text": [
      "Series([], dtype: int64)\n"
     ]
    }
   ],
   "source": [
    "print(df_fifa.isnull().sum()[df_fifa.isnull().sum() > 0])\n"
   ]
  },
  {
   "cell_type": "code",
   "execution_count": 179,
   "id": "536a6fe3",
   "metadata": {},
   "outputs": [
    {
     "name": "stdout",
     "output_type": "stream",
     "text": [
      "0: Unnamed: 0 - int64\n",
      "1: ID - int64\n",
      "2: Name - object\n",
      "3: Age - int64\n",
      "4: Nationality - object\n",
      "5: Club - object\n",
      "6: BP - object\n",
      "7: Position - object\n",
      "8: Team & Contract - object\n",
      "9: Height - float64\n",
      "10: Weight - float64\n",
      "11: foot - object\n",
      "12: Growth - int64\n",
      "13: Joined - object\n",
      "14: Value - int64\n",
      "15: Wage - int64\n",
      "16: Release Clause - object\n",
      "17: Contract - object\n",
      "18: Attacking - int64\n",
      "19: Crossing - int64\n",
      "20: Finishing - int64\n",
      "21: Heading Accuracy - int64\n",
      "22: Short Passing - int64\n",
      "23: Volleys - float64\n",
      "24: Skill - int64\n",
      "25: Dribbling - int64\n",
      "26: Curve - float64\n",
      "27: FK Accuracy - int64\n",
      "28: Long Passing - int64\n",
      "29: Ball Control - int64\n",
      "30: Movement - int64\n",
      "31: Acceleration - int64\n",
      "32: Sprint Speed - int64\n",
      "33: Agility - float64\n",
      "34: Reactions - int64\n",
      "35: Balance - float64\n",
      "36: Power - int64\n",
      "37: Shot Power - int64\n",
      "38: Jumping - float64\n",
      "39: Stamina - int64\n",
      "40: Strength - int64\n",
      "41: Long Shots - int64\n",
      "42: Mentality - int64\n",
      "43: Aggression - int64\n",
      "44: Interceptions - float64\n",
      "45: Positioning - float64\n",
      "46: Vision - float64\n",
      "47: Penalties - int64\n",
      "48: Composure - float64\n",
      "49: Defending - int64\n",
      "50: Marking - int64\n",
      "51: Standing Tackle - int64\n",
      "52: Sliding Tackle - float64\n",
      "53: Goalkeeping - int64\n",
      "54: GK Diving - int64\n",
      "55: GK Handling - int64\n",
      "56: GK Kicking - int64\n",
      "57: GK Positioning - int64\n",
      "58: GK Reflexes - int64\n",
      "59: Total Stats - int64\n",
      "60: Base Stats - int64\n",
      "61: W/F - object\n",
      "62: SM - object\n",
      "63: A/W - object\n",
      "64: D/W - object\n",
      "65: IR - object\n",
      "66: PAC - int64\n",
      "67: SHO - int64\n",
      "68: PAS - int64\n",
      "69: DRI - int64\n",
      "70: DEF - int64\n",
      "71: PHY - int64\n",
      "72: Hits - object\n",
      "73: LS - object\n",
      "74: ST - object\n",
      "75: RS - object\n",
      "76: LW - object\n",
      "77: LF - object\n",
      "78: CF - object\n",
      "79: RF - object\n",
      "80: RW - object\n",
      "81: LAM - object\n",
      "82: CAM - object\n",
      "83: RAM - object\n",
      "84: LM - object\n",
      "85: LCM - object\n",
      "86: CM - object\n",
      "87: RCM - object\n",
      "88: RM - object\n",
      "89: LWB - object\n",
      "90: LDM - object\n",
      "91: CDM - object\n",
      "92: RDM - object\n",
      "93: RWB - object\n",
      "94: LB - object\n",
      "95: LCB - object\n",
      "96: CB - object\n",
      "97: RCB - object\n",
      "98: RB - object\n",
      "99: GK - object\n",
      "100: OVA - int64\n",
      "101: Posición General - object\n"
     ]
    }
   ],
   "source": [
    "for i, col in enumerate(df_fifa.columns):\n",
    "    print(f\"{i}: {col} - {df_fifa[col].dtype}\")"
   ]
  },
  {
   "cell_type": "code",
   "execution_count": 180,
   "id": "e4eed832",
   "metadata": {},
   "outputs": [
    {
     "data": {
      "text/html": [
       "<div>\n",
       "<style scoped>\n",
       "    .dataframe tbody tr th:only-of-type {\n",
       "        vertical-align: middle;\n",
       "    }\n",
       "\n",
       "    .dataframe tbody tr th {\n",
       "        vertical-align: top;\n",
       "    }\n",
       "\n",
       "    .dataframe thead th {\n",
       "        text-align: right;\n",
       "    }\n",
       "</style>\n",
       "<table border=\"1\" class=\"dataframe\">\n",
       "  <thead>\n",
       "    <tr style=\"text-align: right;\">\n",
       "      <th></th>\n",
       "      <th>Unnamed: 0</th>\n",
       "      <th>ID</th>\n",
       "      <th>Age</th>\n",
       "      <th>Height</th>\n",
       "      <th>Weight</th>\n",
       "      <th>Growth</th>\n",
       "      <th>Value</th>\n",
       "      <th>Wage</th>\n",
       "      <th>Attacking</th>\n",
       "      <th>Crossing</th>\n",
       "      <th>...</th>\n",
       "      <th>GK Reflexes</th>\n",
       "      <th>Total Stats</th>\n",
       "      <th>Base Stats</th>\n",
       "      <th>PAC</th>\n",
       "      <th>SHO</th>\n",
       "      <th>PAS</th>\n",
       "      <th>DRI</th>\n",
       "      <th>DEF</th>\n",
       "      <th>PHY</th>\n",
       "      <th>OVA</th>\n",
       "    </tr>\n",
       "  </thead>\n",
       "  <tbody>\n",
       "    <tr>\n",
       "      <th>count</th>\n",
       "      <td>13700.000000</td>\n",
       "      <td>13700.000000</td>\n",
       "      <td>13700.000000</td>\n",
       "      <td>13700.000000</td>\n",
       "      <td>13700.000000</td>\n",
       "      <td>13700.000000</td>\n",
       "      <td>1.370000e+04</td>\n",
       "      <td>13700.000000</td>\n",
       "      <td>13700.000000</td>\n",
       "      <td>13700.000000</td>\n",
       "      <td>...</td>\n",
       "      <td>13700.000000</td>\n",
       "      <td>13700.000000</td>\n",
       "      <td>13700.000000</td>\n",
       "      <td>13700.000000</td>\n",
       "      <td>13700.000000</td>\n",
       "      <td>13700.000000</td>\n",
       "      <td>13700.000000</td>\n",
       "      <td>13700.000000</td>\n",
       "      <td>13700.000000</td>\n",
       "      <td>13700.000000</td>\n",
       "    </tr>\n",
       "    <tr>\n",
       "      <th>mean</th>\n",
       "      <td>8561.641971</td>\n",
       "      <td>219378.929708</td>\n",
       "      <td>25.286058</td>\n",
       "      <td>181.225848</td>\n",
       "      <td>75.133339</td>\n",
       "      <td>5.509927</td>\n",
       "      <td>2.549592e+06</td>\n",
       "      <td>10442.233577</td>\n",
       "      <td>258.313431</td>\n",
       "      <td>51.585766</td>\n",
       "      <td>...</td>\n",
       "      <td>15.830292</td>\n",
       "      <td>1630.103942</td>\n",
       "      <td>361.317007</td>\n",
       "      <td>68.108832</td>\n",
       "      <td>55.056423</td>\n",
       "      <td>58.931679</td>\n",
       "      <td>64.236277</td>\n",
       "      <td>50.123577</td>\n",
       "      <td>64.860219</td>\n",
       "      <td>66.945912</td>\n",
       "    </tr>\n",
       "    <tr>\n",
       "      <th>std</th>\n",
       "      <td>4954.144383</td>\n",
       "      <td>37445.343736</td>\n",
       "      <td>4.944498</td>\n",
       "      <td>6.893956</td>\n",
       "      <td>7.171942</td>\n",
       "      <td>5.797176</td>\n",
       "      <td>5.294546e+06</td>\n",
       "      <td>21054.511967</td>\n",
       "      <td>72.412379</td>\n",
       "      <td>17.899930</td>\n",
       "      <td>...</td>\n",
       "      <td>17.276491</td>\n",
       "      <td>260.986045</td>\n",
       "      <td>40.258414</td>\n",
       "      <td>11.183342</td>\n",
       "      <td>13.839958</td>\n",
       "      <td>10.159851</td>\n",
       "      <td>9.816203</td>\n",
       "      <td>16.815110</td>\n",
       "      <td>9.736964</td>\n",
       "      <td>6.860189</td>\n",
       "    </tr>\n",
       "    <tr>\n",
       "      <th>min</th>\n",
       "      <td>1.000000</td>\n",
       "      <td>16.000000</td>\n",
       "      <td>16.000000</td>\n",
       "      <td>154.940000</td>\n",
       "      <td>53.070000</td>\n",
       "      <td>-1.000000</td>\n",
       "      <td>0.000000e+00</td>\n",
       "      <td>0.000000</td>\n",
       "      <td>33.000000</td>\n",
       "      <td>6.000000</td>\n",
       "      <td>...</td>\n",
       "      <td>1.000000</td>\n",
       "      <td>731.000000</td>\n",
       "      <td>228.000000</td>\n",
       "      <td>26.000000</td>\n",
       "      <td>17.000000</td>\n",
       "      <td>25.000000</td>\n",
       "      <td>28.000000</td>\n",
       "      <td>12.000000</td>\n",
       "      <td>27.000000</td>\n",
       "      <td>38.000000</td>\n",
       "    </tr>\n",
       "    <tr>\n",
       "      <th>1%</th>\n",
       "      <td>173.980000</td>\n",
       "      <td>34816.550000</td>\n",
       "      <td>17.000000</td>\n",
       "      <td>165.100000</td>\n",
       "      <td>59.870000</td>\n",
       "      <td>0.000000</td>\n",
       "      <td>0.000000e+00</td>\n",
       "      <td>0.000000</td>\n",
       "      <td>59.000000</td>\n",
       "      <td>10.000000</td>\n",
       "      <td>...</td>\n",
       "      <td>5.000000</td>\n",
       "      <td>885.000000</td>\n",
       "      <td>271.000000</td>\n",
       "      <td>34.000000</td>\n",
       "      <td>25.000000</td>\n",
       "      <td>34.000000</td>\n",
       "      <td>36.000000</td>\n",
       "      <td>19.000000</td>\n",
       "      <td>40.000000</td>\n",
       "      <td>51.000000</td>\n",
       "    </tr>\n",
       "    <tr>\n",
       "      <th>10%</th>\n",
       "      <td>1707.900000</td>\n",
       "      <td>181861.400000</td>\n",
       "      <td>19.000000</td>\n",
       "      <td>172.720000</td>\n",
       "      <td>66.220000</td>\n",
       "      <td>0.000000</td>\n",
       "      <td>1.600000e+05</td>\n",
       "      <td>500.000000</td>\n",
       "      <td>167.000000</td>\n",
       "      <td>24.000000</td>\n",
       "      <td>...</td>\n",
       "      <td>6.000000</td>\n",
       "      <td>1277.900000</td>\n",
       "      <td>308.000000</td>\n",
       "      <td>54.000000</td>\n",
       "      <td>33.000000</td>\n",
       "      <td>45.000000</td>\n",
       "      <td>51.000000</td>\n",
       "      <td>26.000000</td>\n",
       "      <td>51.000000</td>\n",
       "      <td>58.000000</td>\n",
       "    </tr>\n",
       "    <tr>\n",
       "      <th>25%</th>\n",
       "      <td>4269.750000</td>\n",
       "      <td>203979.750000</td>\n",
       "      <td>21.000000</td>\n",
       "      <td>175.260000</td>\n",
       "      <td>69.850000</td>\n",
       "      <td>0.000000</td>\n",
       "      <td>3.750000e+05</td>\n",
       "      <td>1000.000000</td>\n",
       "      <td>231.000000</td>\n",
       "      <td>41.000000</td>\n",
       "      <td>...</td>\n",
       "      <td>8.000000</td>\n",
       "      <td>1491.000000</td>\n",
       "      <td>333.000000</td>\n",
       "      <td>62.000000</td>\n",
       "      <td>46.000000</td>\n",
       "      <td>52.000000</td>\n",
       "      <td>59.000000</td>\n",
       "      <td>35.000000</td>\n",
       "      <td>59.000000</td>\n",
       "      <td>62.000000</td>\n",
       "    </tr>\n",
       "    <tr>\n",
       "      <th>50%</th>\n",
       "      <td>8555.500000</td>\n",
       "      <td>228927.000000</td>\n",
       "      <td>25.000000</td>\n",
       "      <td>180.340000</td>\n",
       "      <td>74.840000</td>\n",
       "      <td>4.000000</td>\n",
       "      <td>8.000000e+05</td>\n",
       "      <td>3000.000000</td>\n",
       "      <td>271.000000</td>\n",
       "      <td>56.000000</td>\n",
       "      <td>...</td>\n",
       "      <td>11.000000</td>\n",
       "      <td>1659.000000</td>\n",
       "      <td>362.000000</td>\n",
       "      <td>69.000000</td>\n",
       "      <td>58.000000</td>\n",
       "      <td>60.000000</td>\n",
       "      <td>65.000000</td>\n",
       "      <td>53.000000</td>\n",
       "      <td>66.000000</td>\n",
       "      <td>67.000000</td>\n",
       "    </tr>\n",
       "    <tr>\n",
       "      <th>75%</th>\n",
       "      <td>12887.250000</td>\n",
       "      <td>244043.500000</td>\n",
       "      <td>29.000000</td>\n",
       "      <td>185.420000</td>\n",
       "      <td>79.830000</td>\n",
       "      <td>9.000000</td>\n",
       "      <td>2.400000e+06</td>\n",
       "      <td>10000.000000</td>\n",
       "      <td>306.000000</td>\n",
       "      <td>65.000000</td>\n",
       "      <td>...</td>\n",
       "      <td>14.000000</td>\n",
       "      <td>1811.250000</td>\n",
       "      <td>389.000000</td>\n",
       "      <td>75.000000</td>\n",
       "      <td>65.000000</td>\n",
       "      <td>66.000000</td>\n",
       "      <td>71.000000</td>\n",
       "      <td>64.000000</td>\n",
       "      <td>72.000000</td>\n",
       "      <td>72.000000</td>\n",
       "    </tr>\n",
       "    <tr>\n",
       "      <th>80%</th>\n",
       "      <td>13720.400000</td>\n",
       "      <td>246670.200000</td>\n",
       "      <td>30.000000</td>\n",
       "      <td>187.960000</td>\n",
       "      <td>81.190000</td>\n",
       "      <td>11.000000</td>\n",
       "      <td>3.200000e+06</td>\n",
       "      <td>14000.000000</td>\n",
       "      <td>314.000000</td>\n",
       "      <td>67.000000</td>\n",
       "      <td>...</td>\n",
       "      <td>14.000000</td>\n",
       "      <td>1845.000000</td>\n",
       "      <td>396.000000</td>\n",
       "      <td>77.000000</td>\n",
       "      <td>67.000000</td>\n",
       "      <td>68.000000</td>\n",
       "      <td>72.000000</td>\n",
       "      <td>66.000000</td>\n",
       "      <td>73.000000</td>\n",
       "      <td>73.000000</td>\n",
       "    </tr>\n",
       "    <tr>\n",
       "      <th>99%</th>\n",
       "      <td>16940.010000</td>\n",
       "      <td>258633.010000</td>\n",
       "      <td>37.000000</td>\n",
       "      <td>195.580000</td>\n",
       "      <td>92.990000</td>\n",
       "      <td>20.000000</td>\n",
       "      <td>2.550500e+07</td>\n",
       "      <td>96000.000000</td>\n",
       "      <td>375.010000</td>\n",
       "      <td>81.000000</td>\n",
       "      <td>...</td>\n",
       "      <td>78.000000</td>\n",
       "      <td>2118.000000</td>\n",
       "      <td>452.000000</td>\n",
       "      <td>91.000000</td>\n",
       "      <td>80.000000</td>\n",
       "      <td>81.000000</td>\n",
       "      <td>84.000000</td>\n",
       "      <td>79.010000</td>\n",
       "      <td>83.000000</td>\n",
       "      <td>83.000000</td>\n",
       "    </tr>\n",
       "    <tr>\n",
       "      <th>max</th>\n",
       "      <td>17122.000000</td>\n",
       "      <td>259091.000000</td>\n",
       "      <td>47.000000</td>\n",
       "      <td>205.740000</td>\n",
       "      <td>110.220000</td>\n",
       "      <td>26.000000</td>\n",
       "      <td>9.000000e+07</td>\n",
       "      <td>560000.000000</td>\n",
       "      <td>437.000000</td>\n",
       "      <td>94.000000</td>\n",
       "      <td>...</td>\n",
       "      <td>90.000000</td>\n",
       "      <td>2304.000000</td>\n",
       "      <td>498.000000</td>\n",
       "      <td>96.000000</td>\n",
       "      <td>93.000000</td>\n",
       "      <td>93.000000</td>\n",
       "      <td>95.000000</td>\n",
       "      <td>90.000000</td>\n",
       "      <td>93.000000</td>\n",
       "      <td>93.000000</td>\n",
       "    </tr>\n",
       "  </tbody>\n",
       "</table>\n",
       "<p>12 rows × 58 columns</p>\n",
       "</div>"
      ],
      "text/plain": [
       "         Unnamed: 0             ID           Age        Height        Weight  \\\n",
       "count  13700.000000   13700.000000  13700.000000  13700.000000  13700.000000   \n",
       "mean    8561.641971  219378.929708     25.286058    181.225848     75.133339   \n",
       "std     4954.144383   37445.343736      4.944498      6.893956      7.171942   \n",
       "min        1.000000      16.000000     16.000000    154.940000     53.070000   \n",
       "1%       173.980000   34816.550000     17.000000    165.100000     59.870000   \n",
       "10%     1707.900000  181861.400000     19.000000    172.720000     66.220000   \n",
       "25%     4269.750000  203979.750000     21.000000    175.260000     69.850000   \n",
       "50%     8555.500000  228927.000000     25.000000    180.340000     74.840000   \n",
       "75%    12887.250000  244043.500000     29.000000    185.420000     79.830000   \n",
       "80%    13720.400000  246670.200000     30.000000    187.960000     81.190000   \n",
       "99%    16940.010000  258633.010000     37.000000    195.580000     92.990000   \n",
       "max    17122.000000  259091.000000     47.000000    205.740000    110.220000   \n",
       "\n",
       "             Growth         Value           Wage     Attacking      Crossing  \\\n",
       "count  13700.000000  1.370000e+04   13700.000000  13700.000000  13700.000000   \n",
       "mean       5.509927  2.549592e+06   10442.233577    258.313431     51.585766   \n",
       "std        5.797176  5.294546e+06   21054.511967     72.412379     17.899930   \n",
       "min       -1.000000  0.000000e+00       0.000000     33.000000      6.000000   \n",
       "1%         0.000000  0.000000e+00       0.000000     59.000000     10.000000   \n",
       "10%        0.000000  1.600000e+05     500.000000    167.000000     24.000000   \n",
       "25%        0.000000  3.750000e+05    1000.000000    231.000000     41.000000   \n",
       "50%        4.000000  8.000000e+05    3000.000000    271.000000     56.000000   \n",
       "75%        9.000000  2.400000e+06   10000.000000    306.000000     65.000000   \n",
       "80%       11.000000  3.200000e+06   14000.000000    314.000000     67.000000   \n",
       "99%       20.000000  2.550500e+07   96000.000000    375.010000     81.000000   \n",
       "max       26.000000  9.000000e+07  560000.000000    437.000000     94.000000   \n",
       "\n",
       "       ...   GK Reflexes   Total Stats    Base Stats           PAC  \\\n",
       "count  ...  13700.000000  13700.000000  13700.000000  13700.000000   \n",
       "mean   ...     15.830292   1630.103942    361.317007     68.108832   \n",
       "std    ...     17.276491    260.986045     40.258414     11.183342   \n",
       "min    ...      1.000000    731.000000    228.000000     26.000000   \n",
       "1%     ...      5.000000    885.000000    271.000000     34.000000   \n",
       "10%    ...      6.000000   1277.900000    308.000000     54.000000   \n",
       "25%    ...      8.000000   1491.000000    333.000000     62.000000   \n",
       "50%    ...     11.000000   1659.000000    362.000000     69.000000   \n",
       "75%    ...     14.000000   1811.250000    389.000000     75.000000   \n",
       "80%    ...     14.000000   1845.000000    396.000000     77.000000   \n",
       "99%    ...     78.000000   2118.000000    452.000000     91.000000   \n",
       "max    ...     90.000000   2304.000000    498.000000     96.000000   \n",
       "\n",
       "                SHO           PAS           DRI           DEF           PHY  \\\n",
       "count  13700.000000  13700.000000  13700.000000  13700.000000  13700.000000   \n",
       "mean      55.056423     58.931679     64.236277     50.123577     64.860219   \n",
       "std       13.839958     10.159851      9.816203     16.815110      9.736964   \n",
       "min       17.000000     25.000000     28.000000     12.000000     27.000000   \n",
       "1%        25.000000     34.000000     36.000000     19.000000     40.000000   \n",
       "10%       33.000000     45.000000     51.000000     26.000000     51.000000   \n",
       "25%       46.000000     52.000000     59.000000     35.000000     59.000000   \n",
       "50%       58.000000     60.000000     65.000000     53.000000     66.000000   \n",
       "75%       65.000000     66.000000     71.000000     64.000000     72.000000   \n",
       "80%       67.000000     68.000000     72.000000     66.000000     73.000000   \n",
       "99%       80.000000     81.000000     84.000000     79.010000     83.000000   \n",
       "max       93.000000     93.000000     95.000000     90.000000     93.000000   \n",
       "\n",
       "                OVA  \n",
       "count  13700.000000  \n",
       "mean      66.945912  \n",
       "std        6.860189  \n",
       "min       38.000000  \n",
       "1%        51.000000  \n",
       "10%       58.000000  \n",
       "25%       62.000000  \n",
       "50%       67.000000  \n",
       "75%       72.000000  \n",
       "80%       73.000000  \n",
       "99%       83.000000  \n",
       "max       93.000000  \n",
       "\n",
       "[12 rows x 58 columns]"
      ]
     },
     "execution_count": 180,
     "metadata": {},
     "output_type": "execute_result"
    }
   ],
   "source": [
    "df_fifa.describe(percentiles=[0.01, 0.10, 0.25, 0.75, 0.80, 0.99])"
   ]
  },
  {
   "cell_type": "code",
   "execution_count": 181,
   "id": "f72a3312",
   "metadata": {},
   "outputs": [],
   "source": [
    "#hacer un histograma de wages / values\n",
    "#boxplot de analisis de la distribución\n",
    "#Para los outliers de value/wage - hacer los dos ejemplos, un grafico quitando los outliers por arriba o por arriba y por abajo y otro grafico poniendo que los que tienen mas del 99% le hemos puesto el salario/value del 99.\n",
    "# Intenta encontrar el top 10 jugadores que ofreceria a florentino perez (el precio puede ser extremo)\n",
    "# Intenta encontrar el top 10 jugadores que ofreceria con un precio rango entre 100-300K\n",
    "\n"
   ]
  },
  {
   "cell_type": "code",
   "execution_count": 182,
   "id": "ab001c55",
   "metadata": {},
   "outputs": [
    {
     "data": {
      "text/html": [
       "<div>\n",
       "<style scoped>\n",
       "    .dataframe tbody tr th:only-of-type {\n",
       "        vertical-align: middle;\n",
       "    }\n",
       "\n",
       "    .dataframe tbody tr th {\n",
       "        vertical-align: top;\n",
       "    }\n",
       "\n",
       "    .dataframe thead th {\n",
       "        text-align: right;\n",
       "    }\n",
       "</style>\n",
       "<table border=\"1\" class=\"dataframe\">\n",
       "  <thead>\n",
       "    <tr style=\"text-align: right;\">\n",
       "      <th></th>\n",
       "      <th>Unnamed: 0</th>\n",
       "      <th>ID</th>\n",
       "      <th>Age</th>\n",
       "      <th>Height</th>\n",
       "      <th>Weight</th>\n",
       "      <th>Growth</th>\n",
       "      <th>Value</th>\n",
       "      <th>Wage</th>\n",
       "      <th>Attacking</th>\n",
       "      <th>Crossing</th>\n",
       "      <th>...</th>\n",
       "      <th>GK Reflexes</th>\n",
       "      <th>Total Stats</th>\n",
       "      <th>Base Stats</th>\n",
       "      <th>PAC</th>\n",
       "      <th>SHO</th>\n",
       "      <th>PAS</th>\n",
       "      <th>DRI</th>\n",
       "      <th>DEF</th>\n",
       "      <th>PHY</th>\n",
       "      <th>OVA</th>\n",
       "    </tr>\n",
       "  </thead>\n",
       "  <tbody>\n",
       "    <tr>\n",
       "      <th>count</th>\n",
       "      <td>13700.000000</td>\n",
       "      <td>13700.000000</td>\n",
       "      <td>13700.000000</td>\n",
       "      <td>13700.000000</td>\n",
       "      <td>13700.000000</td>\n",
       "      <td>13700.000000</td>\n",
       "      <td>1.370000e+04</td>\n",
       "      <td>13700.000000</td>\n",
       "      <td>13700.000000</td>\n",
       "      <td>13700.000000</td>\n",
       "      <td>...</td>\n",
       "      <td>13700.000000</td>\n",
       "      <td>13700.000000</td>\n",
       "      <td>13700.000000</td>\n",
       "      <td>13700.000000</td>\n",
       "      <td>13700.000000</td>\n",
       "      <td>13700.000000</td>\n",
       "      <td>13700.000000</td>\n",
       "      <td>13700.000000</td>\n",
       "      <td>13700.000000</td>\n",
       "      <td>13700.000000</td>\n",
       "    </tr>\n",
       "    <tr>\n",
       "      <th>mean</th>\n",
       "      <td>8561.641971</td>\n",
       "      <td>219378.929708</td>\n",
       "      <td>25.286058</td>\n",
       "      <td>181.225848</td>\n",
       "      <td>75.133339</td>\n",
       "      <td>5.509927</td>\n",
       "      <td>2.549592e+06</td>\n",
       "      <td>10442.233577</td>\n",
       "      <td>258.313431</td>\n",
       "      <td>51.585766</td>\n",
       "      <td>...</td>\n",
       "      <td>15.830292</td>\n",
       "      <td>1630.103942</td>\n",
       "      <td>361.317007</td>\n",
       "      <td>68.108832</td>\n",
       "      <td>55.056423</td>\n",
       "      <td>58.931679</td>\n",
       "      <td>64.236277</td>\n",
       "      <td>50.123577</td>\n",
       "      <td>64.860219</td>\n",
       "      <td>66.945912</td>\n",
       "    </tr>\n",
       "    <tr>\n",
       "      <th>std</th>\n",
       "      <td>4954.144383</td>\n",
       "      <td>37445.343736</td>\n",
       "      <td>4.944498</td>\n",
       "      <td>6.893956</td>\n",
       "      <td>7.171942</td>\n",
       "      <td>5.797176</td>\n",
       "      <td>5.294546e+06</td>\n",
       "      <td>21054.511967</td>\n",
       "      <td>72.412379</td>\n",
       "      <td>17.899930</td>\n",
       "      <td>...</td>\n",
       "      <td>17.276491</td>\n",
       "      <td>260.986045</td>\n",
       "      <td>40.258414</td>\n",
       "      <td>11.183342</td>\n",
       "      <td>13.839958</td>\n",
       "      <td>10.159851</td>\n",
       "      <td>9.816203</td>\n",
       "      <td>16.815110</td>\n",
       "      <td>9.736964</td>\n",
       "      <td>6.860189</td>\n",
       "    </tr>\n",
       "    <tr>\n",
       "      <th>min</th>\n",
       "      <td>1.000000</td>\n",
       "      <td>16.000000</td>\n",
       "      <td>16.000000</td>\n",
       "      <td>154.940000</td>\n",
       "      <td>53.070000</td>\n",
       "      <td>-1.000000</td>\n",
       "      <td>0.000000e+00</td>\n",
       "      <td>0.000000</td>\n",
       "      <td>33.000000</td>\n",
       "      <td>6.000000</td>\n",
       "      <td>...</td>\n",
       "      <td>1.000000</td>\n",
       "      <td>731.000000</td>\n",
       "      <td>228.000000</td>\n",
       "      <td>26.000000</td>\n",
       "      <td>17.000000</td>\n",
       "      <td>25.000000</td>\n",
       "      <td>28.000000</td>\n",
       "      <td>12.000000</td>\n",
       "      <td>27.000000</td>\n",
       "      <td>38.000000</td>\n",
       "    </tr>\n",
       "    <tr>\n",
       "      <th>1%</th>\n",
       "      <td>173.980000</td>\n",
       "      <td>34816.550000</td>\n",
       "      <td>17.000000</td>\n",
       "      <td>165.100000</td>\n",
       "      <td>59.870000</td>\n",
       "      <td>0.000000</td>\n",
       "      <td>0.000000e+00</td>\n",
       "      <td>0.000000</td>\n",
       "      <td>59.000000</td>\n",
       "      <td>10.000000</td>\n",
       "      <td>...</td>\n",
       "      <td>5.000000</td>\n",
       "      <td>885.000000</td>\n",
       "      <td>271.000000</td>\n",
       "      <td>34.000000</td>\n",
       "      <td>25.000000</td>\n",
       "      <td>34.000000</td>\n",
       "      <td>36.000000</td>\n",
       "      <td>19.000000</td>\n",
       "      <td>40.000000</td>\n",
       "      <td>51.000000</td>\n",
       "    </tr>\n",
       "    <tr>\n",
       "      <th>10%</th>\n",
       "      <td>1707.900000</td>\n",
       "      <td>181861.400000</td>\n",
       "      <td>19.000000</td>\n",
       "      <td>172.720000</td>\n",
       "      <td>66.220000</td>\n",
       "      <td>0.000000</td>\n",
       "      <td>1.600000e+05</td>\n",
       "      <td>500.000000</td>\n",
       "      <td>167.000000</td>\n",
       "      <td>24.000000</td>\n",
       "      <td>...</td>\n",
       "      <td>6.000000</td>\n",
       "      <td>1277.900000</td>\n",
       "      <td>308.000000</td>\n",
       "      <td>54.000000</td>\n",
       "      <td>33.000000</td>\n",
       "      <td>45.000000</td>\n",
       "      <td>51.000000</td>\n",
       "      <td>26.000000</td>\n",
       "      <td>51.000000</td>\n",
       "      <td>58.000000</td>\n",
       "    </tr>\n",
       "    <tr>\n",
       "      <th>25%</th>\n",
       "      <td>4269.750000</td>\n",
       "      <td>203979.750000</td>\n",
       "      <td>21.000000</td>\n",
       "      <td>175.260000</td>\n",
       "      <td>69.850000</td>\n",
       "      <td>0.000000</td>\n",
       "      <td>3.750000e+05</td>\n",
       "      <td>1000.000000</td>\n",
       "      <td>231.000000</td>\n",
       "      <td>41.000000</td>\n",
       "      <td>...</td>\n",
       "      <td>8.000000</td>\n",
       "      <td>1491.000000</td>\n",
       "      <td>333.000000</td>\n",
       "      <td>62.000000</td>\n",
       "      <td>46.000000</td>\n",
       "      <td>52.000000</td>\n",
       "      <td>59.000000</td>\n",
       "      <td>35.000000</td>\n",
       "      <td>59.000000</td>\n",
       "      <td>62.000000</td>\n",
       "    </tr>\n",
       "    <tr>\n",
       "      <th>50%</th>\n",
       "      <td>8555.500000</td>\n",
       "      <td>228927.000000</td>\n",
       "      <td>25.000000</td>\n",
       "      <td>180.340000</td>\n",
       "      <td>74.840000</td>\n",
       "      <td>4.000000</td>\n",
       "      <td>8.000000e+05</td>\n",
       "      <td>3000.000000</td>\n",
       "      <td>271.000000</td>\n",
       "      <td>56.000000</td>\n",
       "      <td>...</td>\n",
       "      <td>11.000000</td>\n",
       "      <td>1659.000000</td>\n",
       "      <td>362.000000</td>\n",
       "      <td>69.000000</td>\n",
       "      <td>58.000000</td>\n",
       "      <td>60.000000</td>\n",
       "      <td>65.000000</td>\n",
       "      <td>53.000000</td>\n",
       "      <td>66.000000</td>\n",
       "      <td>67.000000</td>\n",
       "    </tr>\n",
       "    <tr>\n",
       "      <th>75%</th>\n",
       "      <td>12887.250000</td>\n",
       "      <td>244043.500000</td>\n",
       "      <td>29.000000</td>\n",
       "      <td>185.420000</td>\n",
       "      <td>79.830000</td>\n",
       "      <td>9.000000</td>\n",
       "      <td>2.400000e+06</td>\n",
       "      <td>10000.000000</td>\n",
       "      <td>306.000000</td>\n",
       "      <td>65.000000</td>\n",
       "      <td>...</td>\n",
       "      <td>14.000000</td>\n",
       "      <td>1811.250000</td>\n",
       "      <td>389.000000</td>\n",
       "      <td>75.000000</td>\n",
       "      <td>65.000000</td>\n",
       "      <td>66.000000</td>\n",
       "      <td>71.000000</td>\n",
       "      <td>64.000000</td>\n",
       "      <td>72.000000</td>\n",
       "      <td>72.000000</td>\n",
       "    </tr>\n",
       "    <tr>\n",
       "      <th>80%</th>\n",
       "      <td>13720.400000</td>\n",
       "      <td>246670.200000</td>\n",
       "      <td>30.000000</td>\n",
       "      <td>187.960000</td>\n",
       "      <td>81.190000</td>\n",
       "      <td>11.000000</td>\n",
       "      <td>3.200000e+06</td>\n",
       "      <td>14000.000000</td>\n",
       "      <td>314.000000</td>\n",
       "      <td>67.000000</td>\n",
       "      <td>...</td>\n",
       "      <td>14.000000</td>\n",
       "      <td>1845.000000</td>\n",
       "      <td>396.000000</td>\n",
       "      <td>77.000000</td>\n",
       "      <td>67.000000</td>\n",
       "      <td>68.000000</td>\n",
       "      <td>72.000000</td>\n",
       "      <td>66.000000</td>\n",
       "      <td>73.000000</td>\n",
       "      <td>73.000000</td>\n",
       "    </tr>\n",
       "    <tr>\n",
       "      <th>99%</th>\n",
       "      <td>16940.010000</td>\n",
       "      <td>258633.010000</td>\n",
       "      <td>37.000000</td>\n",
       "      <td>195.580000</td>\n",
       "      <td>92.990000</td>\n",
       "      <td>20.000000</td>\n",
       "      <td>2.550500e+07</td>\n",
       "      <td>96000.000000</td>\n",
       "      <td>375.010000</td>\n",
       "      <td>81.000000</td>\n",
       "      <td>...</td>\n",
       "      <td>78.000000</td>\n",
       "      <td>2118.000000</td>\n",
       "      <td>452.000000</td>\n",
       "      <td>91.000000</td>\n",
       "      <td>80.000000</td>\n",
       "      <td>81.000000</td>\n",
       "      <td>84.000000</td>\n",
       "      <td>79.010000</td>\n",
       "      <td>83.000000</td>\n",
       "      <td>83.000000</td>\n",
       "    </tr>\n",
       "    <tr>\n",
       "      <th>max</th>\n",
       "      <td>17122.000000</td>\n",
       "      <td>259091.000000</td>\n",
       "      <td>47.000000</td>\n",
       "      <td>205.740000</td>\n",
       "      <td>110.220000</td>\n",
       "      <td>26.000000</td>\n",
       "      <td>9.000000e+07</td>\n",
       "      <td>560000.000000</td>\n",
       "      <td>437.000000</td>\n",
       "      <td>94.000000</td>\n",
       "      <td>...</td>\n",
       "      <td>90.000000</td>\n",
       "      <td>2304.000000</td>\n",
       "      <td>498.000000</td>\n",
       "      <td>96.000000</td>\n",
       "      <td>93.000000</td>\n",
       "      <td>93.000000</td>\n",
       "      <td>95.000000</td>\n",
       "      <td>90.000000</td>\n",
       "      <td>93.000000</td>\n",
       "      <td>93.000000</td>\n",
       "    </tr>\n",
       "  </tbody>\n",
       "</table>\n",
       "<p>12 rows × 58 columns</p>\n",
       "</div>"
      ],
      "text/plain": [
       "         Unnamed: 0             ID           Age        Height        Weight  \\\n",
       "count  13700.000000   13700.000000  13700.000000  13700.000000  13700.000000   \n",
       "mean    8561.641971  219378.929708     25.286058    181.225848     75.133339   \n",
       "std     4954.144383   37445.343736      4.944498      6.893956      7.171942   \n",
       "min        1.000000      16.000000     16.000000    154.940000     53.070000   \n",
       "1%       173.980000   34816.550000     17.000000    165.100000     59.870000   \n",
       "10%     1707.900000  181861.400000     19.000000    172.720000     66.220000   \n",
       "25%     4269.750000  203979.750000     21.000000    175.260000     69.850000   \n",
       "50%     8555.500000  228927.000000     25.000000    180.340000     74.840000   \n",
       "75%    12887.250000  244043.500000     29.000000    185.420000     79.830000   \n",
       "80%    13720.400000  246670.200000     30.000000    187.960000     81.190000   \n",
       "99%    16940.010000  258633.010000     37.000000    195.580000     92.990000   \n",
       "max    17122.000000  259091.000000     47.000000    205.740000    110.220000   \n",
       "\n",
       "             Growth         Value           Wage     Attacking      Crossing  \\\n",
       "count  13700.000000  1.370000e+04   13700.000000  13700.000000  13700.000000   \n",
       "mean       5.509927  2.549592e+06   10442.233577    258.313431     51.585766   \n",
       "std        5.797176  5.294546e+06   21054.511967     72.412379     17.899930   \n",
       "min       -1.000000  0.000000e+00       0.000000     33.000000      6.000000   \n",
       "1%         0.000000  0.000000e+00       0.000000     59.000000     10.000000   \n",
       "10%        0.000000  1.600000e+05     500.000000    167.000000     24.000000   \n",
       "25%        0.000000  3.750000e+05    1000.000000    231.000000     41.000000   \n",
       "50%        4.000000  8.000000e+05    3000.000000    271.000000     56.000000   \n",
       "75%        9.000000  2.400000e+06   10000.000000    306.000000     65.000000   \n",
       "80%       11.000000  3.200000e+06   14000.000000    314.000000     67.000000   \n",
       "99%       20.000000  2.550500e+07   96000.000000    375.010000     81.000000   \n",
       "max       26.000000  9.000000e+07  560000.000000    437.000000     94.000000   \n",
       "\n",
       "       ...   GK Reflexes   Total Stats    Base Stats           PAC  \\\n",
       "count  ...  13700.000000  13700.000000  13700.000000  13700.000000   \n",
       "mean   ...     15.830292   1630.103942    361.317007     68.108832   \n",
       "std    ...     17.276491    260.986045     40.258414     11.183342   \n",
       "min    ...      1.000000    731.000000    228.000000     26.000000   \n",
       "1%     ...      5.000000    885.000000    271.000000     34.000000   \n",
       "10%    ...      6.000000   1277.900000    308.000000     54.000000   \n",
       "25%    ...      8.000000   1491.000000    333.000000     62.000000   \n",
       "50%    ...     11.000000   1659.000000    362.000000     69.000000   \n",
       "75%    ...     14.000000   1811.250000    389.000000     75.000000   \n",
       "80%    ...     14.000000   1845.000000    396.000000     77.000000   \n",
       "99%    ...     78.000000   2118.000000    452.000000     91.000000   \n",
       "max    ...     90.000000   2304.000000    498.000000     96.000000   \n",
       "\n",
       "                SHO           PAS           DRI           DEF           PHY  \\\n",
       "count  13700.000000  13700.000000  13700.000000  13700.000000  13700.000000   \n",
       "mean      55.056423     58.931679     64.236277     50.123577     64.860219   \n",
       "std       13.839958     10.159851      9.816203     16.815110      9.736964   \n",
       "min       17.000000     25.000000     28.000000     12.000000     27.000000   \n",
       "1%        25.000000     34.000000     36.000000     19.000000     40.000000   \n",
       "10%       33.000000     45.000000     51.000000     26.000000     51.000000   \n",
       "25%       46.000000     52.000000     59.000000     35.000000     59.000000   \n",
       "50%       58.000000     60.000000     65.000000     53.000000     66.000000   \n",
       "75%       65.000000     66.000000     71.000000     64.000000     72.000000   \n",
       "80%       67.000000     68.000000     72.000000     66.000000     73.000000   \n",
       "99%       80.000000     81.000000     84.000000     79.010000     83.000000   \n",
       "max       93.000000     93.000000     95.000000     90.000000     93.000000   \n",
       "\n",
       "                OVA  \n",
       "count  13700.000000  \n",
       "mean      66.945912  \n",
       "std        6.860189  \n",
       "min       38.000000  \n",
       "1%        51.000000  \n",
       "10%       58.000000  \n",
       "25%       62.000000  \n",
       "50%       67.000000  \n",
       "75%       72.000000  \n",
       "80%       73.000000  \n",
       "99%       83.000000  \n",
       "max       93.000000  \n",
       "\n",
       "[12 rows x 58 columns]"
      ]
     },
     "execution_count": 182,
     "metadata": {},
     "output_type": "execute_result"
    }
   ],
   "source": [
    "df_fifa.describe(percentiles=[0.01, 0.10, 0.25, 0.75, 0.80, 0.99])\n"
   ]
  },
  {
   "cell_type": "code",
   "execution_count": 183,
   "id": "30a3441f",
   "metadata": {},
   "outputs": [
    {
     "data": {
      "image/png": "[encoded data removed]",
      "text/plain": [
       "<Figure size 1200x500 with 2 Axes>"
      ]
     },
     "metadata": {},
     "output_type": "display_data"
    }
   ],
   "source": [
    "plt.figure(figsize=(12, 5))\n",
    "\n",
    "# Boxplot para Value\n",
    "plt.subplot(1, 2, 1)\n",
    "sns.boxplot(x=df_fifa[\"Value\"])\n",
    "plt.title(\"Boxplot de Value\")\n",
    "\n",
    "# Boxplot para Wage\n",
    "plt.subplot(1, 2, 2)\n",
    "sns.boxplot(x=df_fifa[\"Wage\"])\n",
    "plt.title(\"Boxplot de Wage\")\n",
    "\n",
    "plt.show()\n",
    "\n",
    "\n"
   ]
  },
  {
   "cell_type": "markdown",
   "id": "47525fe3",
   "metadata": {},
   "source": [
    "Vemos que hemos de trabajar los outliers."
   ]
  },
  {
   "cell_type": "code",
   "execution_count": 184,
   "id": "e8656650",
   "metadata": {},
   "outputs": [
    {
     "name": "stdout",
     "output_type": "stream",
     "text": [
      "          Value    Wage\n",
      "1       8500000   23000\n",
      "2       9000000   49000\n",
      "6       6000000   28000\n",
      "27     14500000   14000\n",
      "28      9000000   16000\n",
      "...         ...     ...\n",
      "13675   6500000   23000\n",
      "13677   6500000   15000\n",
      "13679  10500000   62000\n",
      "13685  37000000  150000\n",
      "13697   8000000    9000\n",
      "\n",
      "[2316 rows x 2 columns]\n"
     ]
    }
   ],
   "source": [
    "#Detectamos cuantos outliers hay según la regla del rango intercuantilico\n",
    "Q1 = df_fifa[['Value', 'Wage']].quantile(0.25)\n",
    "Q3 = df_fifa[['Value', 'Wage']].quantile(0.75)\n",
    "IQR = Q3 - Q1\n",
    "\n",
    "limites_inferiores = Q1 - 1.5 * IQR\n",
    "limites_superiores = Q3 + 1.5 * IQR\n",
    "\n",
    "outliers = (df_fifa[['Value', 'Wage']] < limites_inferiores) | (df_fifa[['Value', 'Wage']] > limites_superiores)\n",
    "print(df_fifa[outliers.any(axis=1)][['Value', 'Wage']])\n"
   ]
  },
  {
   "cell_type": "markdown",
   "id": "9c2cefa2",
   "metadata": {},
   "source": [
    "Vemos que hay 2316 jugadores que son outliers en value y/o en wage.\n"
   ]
  },
  {
   "cell_type": "code",
   "execution_count": 185,
   "id": "5b8a7575",
   "metadata": {},
   "outputs": [
    {
     "name": "stdout",
     "output_type": "stream",
     "text": [
      "Número de jugadores con valores atípicos en ambas columnas (Value y Wage): 1108\n"
     ]
    }
   ],
   "source": [
    "# Calcular Q1, Q3 e IQR\n",
    "Q1 = df_fifa[['Value', 'Wage']].quantile(0.25)\n",
    "Q3 = df_fifa[['Value', 'Wage']].quantile(0.75)\n",
    "IQR = Q3 - Q1\n",
    "\n",
    "# Definir límites inferior y superior para detectar valores atípicos\n",
    "limites_inferiores = Q1 - 1.5 * IQR\n",
    "limites_superiores = Q3 + 1.5 * IQR\n",
    "\n",
    "# Crear una máscara booleana para detectar outliers\n",
    "outliers_value = (df_fifa['Value'] < limites_inferiores['Value']) | (df_fifa['Value'] > limites_superiores['Value'])\n",
    "outliers_wage = (df_fifa['Wage'] < limites_inferiores['Wage']) | (df_fifa['Wage'] > limites_superiores['Wage'])\n",
    "\n",
    "# Contar cuántos jugadores son outliers en ambas variables\n",
    "outliers_ambos = (outliers_value & outliers_wage).sum()\n",
    "\n",
    "print(f\"Número de jugadores con valores atípicos en ambas columnas (Value y Wage): {outliers_ambos}\")\n",
    "\n"
   ]
  },
  {
   "cell_type": "markdown",
   "id": "d43f3d36",
   "metadata": {},
   "source": [
    "Vemos que parece haber une elevada correlacion entre wage y value."
   ]
  },
  {
   "cell_type": "code",
   "execution_count": 186,
   "id": "94057367",
   "metadata": {},
   "outputs": [
    {
     "name": "stdout",
     "output_type": "stream",
     "text": [
      "Correlación entre Wage y Value: 0.8202\n"
     ]
    }
   ],
   "source": [
    "correlacion = df_fifa[\"Wage\"].corr(df_fifa[\"Value\"])\n",
    "print(f\"Correlación entre Wage y Value: {correlacion:.4f}\")\n"
   ]
  },
  {
   "cell_type": "code",
   "execution_count": 187,
   "id": "72ac199e",
   "metadata": {},
   "outputs": [
    {
     "data": {
      "image/png": "[encoded data removed]",
      "text/plain": [
       "<Figure size 800x600 with 1 Axes>"
      ]
     },
     "metadata": {},
     "output_type": "display_data"
    }
   ],
   "source": [
    "import seaborn as sns\n",
    "import matplotlib.pyplot as plt\n",
    "\n",
    "plt.figure(figsize=(8, 6))\n",
    "sns.scatterplot(x=df_fifa[\"Value\"], y=df_fifa[\"Wage\"], alpha=0.5)\n",
    "plt.title(\"Relación entre Value y Wage\")\n",
    "plt.xlabel(\"Value\")\n",
    "plt.ylabel(\"Wage\")\n",
    "plt.show()\n"
   ]
  },
  {
   "cell_type": "markdown",
   "id": "2ae27a00",
   "metadata": {},
   "source": [
    "Efectivamente vemos en el grafico una elevada correlación."
   ]
  },
  {
   "cell_type": "code",
   "execution_count": 188,
   "id": "f6cf384d",
   "metadata": {},
   "outputs": [
    {
     "name": "stdout",
     "output_type": "stream",
     "text": [
      "              Value\n",
      "count  1.370000e+04\n",
      "mean   2.549592e+06\n",
      "std    5.294546e+06\n",
      "min    0.000000e+00\n",
      "25%    3.750000e+05\n",
      "50%    8.000000e+05\n",
      "75%    2.400000e+06\n",
      "max    9.000000e+07\n",
      "                Wage\n",
      "count   13700.000000\n",
      "mean    10442.233577\n",
      "std     21054.511967\n",
      "min         0.000000\n",
      "25%      1000.000000\n",
      "50%      3000.000000\n",
      "75%     10000.000000\n",
      "max    560000.000000\n"
     ]
    }
   ],
   "source": [
    "print(df_fifa[['Value']].describe())\n",
    "print(df_fifa[['Wage']].describe())"
   ]
  },
  {
   "cell_type": "code",
   "execution_count": 189,
   "id": "79e151a9",
   "metadata": {},
   "outputs": [
    {
     "name": "stdout",
     "output_type": "stream",
     "text": [
      "Value    int64\n",
      "Wage     int64\n",
      "dtype: object\n"
     ]
    }
   ],
   "source": [
    "print(df_fifa.dtypes[['Value', 'Wage']])\n"
   ]
  },
  {
   "cell_type": "code",
   "execution_count": 190,
   "id": "2fca8477",
   "metadata": {},
   "outputs": [
    {
     "name": "stdout",
     "output_type": "stream",
     "text": [
      "              Value  Value_winsor_1\n",
      "count  1.370000e+04    1.370000e+04\n",
      "mean   2.549592e+06    2.401089e+06\n",
      "std    5.294546e+06    4.115807e+06\n",
      "min    0.000000e+00    0.000000e+00\n",
      "25%    3.750000e+05    3.750000e+05\n",
      "50%    8.000000e+05    8.000000e+05\n",
      "75%    2.400000e+06    2.400000e+06\n",
      "max    9.000000e+07    2.550000e+07\n",
      "                Wage  Wage_winsor_1\n",
      "count   13700.000000   13700.000000\n",
      "mean    10442.233577    9871.576642\n",
      "std     21054.511967   16244.017068\n",
      "min         0.000000       0.000000\n",
      "25%      1000.000000    1000.000000\n",
      "50%      3000.000000    3000.000000\n",
      "75%     10000.000000   10000.000000\n",
      "max    560000.000000   96000.000000\n"
     ]
    }
   ],
   "source": [
    "# Winsorizamos y aseguramos que el resultado sea un array NumPy\n",
    "df_fifa[\"Value_winsor_1\"] = np.array(winsorize(df_fifa[\"Value\"].values, limits=[0.01, 0.01]))\n",
    "df_fifa[\"Wage_winsor_1\"] = np.array(winsorize(df_fifa[\"Wage\"].values, limits=[0.01, 0.01]))\n",
    "\n",
    "# Revisamos si la winsorización tuvo efecto\n",
    "print(df_fifa[['Value', 'Value_winsor_1']].describe())\n",
    "print(df_fifa[['Wage', 'Wage_winsor_1']].describe())"
   ]
  },
  {
   "cell_type": "code",
   "execution_count": 191,
   "id": "ade43fb9",
   "metadata": {},
   "outputs": [
    {
     "data": {
      "image/png": "[encoded data removed]",
      "text/plain": [
       "<Figure size 1200x600 with 2 Axes>"
      ]
     },
     "metadata": {},
     "output_type": "display_data"
    }
   ],
   "source": [
    "#Comparemos los graficos winsorizando al 1%.\n",
    "\n",
    "plt.figure(figsize=(12, 6))\n",
    "\n",
    "# Boxplot para Value antes y después de winsorización al 1%\n",
    "plt.subplot(1, 2, 1)\n",
    "sns.boxplot(data=[df_fifa[\"Value\"], df_fifa[\"Value_winsor_1\"]])\n",
    "plt.xticks([0, 1], [\"Original\", \"Winsorizado 1%\"])\n",
    "plt.title(\"Boxplot de Value: Original vs Winsorizado 1%\")\n",
    "\n",
    "# Boxplot para Wage antes y después de winsorización al 1%\n",
    "plt.subplot(1, 2, 2)\n",
    "sns.boxplot(data=[df_fifa[\"Wage\"], df_fifa[\"Wage_winsor_1\"]])\n",
    "plt.xticks([0, 1], [\"Original\", \"Winsorizado 1%\"])\n",
    "plt.title(\"Boxplot de Wage: Original vs Winsorizado 1%\")\n",
    "\n",
    "plt.show()\n"
   ]
  },
  {
   "cell_type": "code",
   "execution_count": 192,
   "id": "04d9e4c5",
   "metadata": {},
   "outputs": [
    {
     "data": {
      "image/png": "[encoded data removed]",
      "text/plain": [
       "<Figure size 600x400 with 1 Axes>"
      ]
     },
     "metadata": {},
     "output_type": "display_data"
    }
   ],
   "source": [
    "plt.figure(figsize=(6, 4))\n",
    "sns.boxplot(y=df_fifa[\"Value_winsor_1\"])\n",
    "plt.title(\"Boxplot de Value Winsorizado (1%)\")\n",
    "plt.ylabel(\"Value Winsorizado\")\n",
    "plt.show()"
   ]
  },
  {
   "cell_type": "code",
   "execution_count": 193,
   "id": "2d1e5755",
   "metadata": {},
   "outputs": [
    {
     "data": {
      "image/png": "[encoded data removed]",
      "text/plain": [
       "<Figure size 600x400 with 1 Axes>"
      ]
     },
     "metadata": {},
     "output_type": "display_data"
    }
   ],
   "source": [
    "plt.figure(figsize=(6, 4))\n",
    "sns.boxplot(y=df_fifa[\"Wage_winsor_1\"])\n",
    "plt.title(\"Boxplot de Wage Winsorizado (1%)\")\n",
    "plt.ylabel(\"Wage Winsorizado\")\n",
    "plt.show()\n"
   ]
  },
  {
   "cell_type": "code",
   "execution_count": 196,
   "id": "95e9b1ab",
   "metadata": {},
   "outputs": [
    {
     "name": "stdout",
     "output_type": "stream",
     "text": [
      "              Value  Value_winsor_5\n",
      "count  1.370000e+04    1.370000e+04\n",
      "mean   2.549592e+06    2.083114e+06\n",
      "std    5.294546e+06    2.833737e+06\n",
      "min    0.000000e+00    9.000000e+04\n",
      "25%    3.750000e+05    3.750000e+05\n",
      "50%    8.000000e+05    8.000000e+05\n",
      "75%    2.400000e+06    2.400000e+06\n",
      "max    9.000000e+07    1.050000e+07\n",
      "                Wage  Wage_winsor_5\n",
      "count   13700.000000   13700.000000\n",
      "mean    10442.233577    8711.448905\n",
      "std     21054.511967   11699.121844\n",
      "min         0.000000     500.000000\n",
      "25%      1000.000000    1000.000000\n",
      "50%      3000.000000    3000.000000\n",
      "75%     10000.000000   10000.000000\n",
      "max    560000.000000   44000.000000\n"
     ]
    }
   ],
   "source": [
    "# Winsorizamos y aseguramos que el resultado sea un array NumPy\n",
    "df_fifa[\"Value_winsor_5\"] = np.array(winsorize(df_fifa[\"Value\"].values, limits=[0.05, 0.05]))\n",
    "df_fifa[\"Wage_winsor_5\"] = np.array(winsorize(df_fifa[\"Wage\"].values, limits=[0.05, 0.05]))\n",
    "\n",
    "# Revisamos si la winsorización tuvo efecto\n",
    "print(df_fifa[['Value', 'Value_winsor_5']].describe())\n",
    "print(df_fifa[['Wage', 'Wage_winsor_5']].describe())"
   ]
  },
  {
   "cell_type": "code",
   "execution_count": 197,
   "id": "dba8403f",
   "metadata": {},
   "outputs": [
    {
     "data": {
      "image/png": "[encoded data removed]",
      "text/plain": [
       "<Figure size 600x400 with 1 Axes>"
      ]
     },
     "metadata": {},
     "output_type": "display_data"
    }
   ],
   "source": [
    "plt.figure(figsize=(6, 4))\n",
    "sns.boxplot(y=df_fifa[\"Value_winsor_5\"])\n",
    "plt.title(\"Boxplot de Value Winsorizado (5%)\")\n",
    "plt.ylabel(\"Value Winsorizado\")\n",
    "plt.show()"
   ]
  },
  {
   "cell_type": "code",
   "execution_count": 198,
   "id": "81d2b54d",
   "metadata": {},
   "outputs": [
    {
     "data": {
      "image/png": "[encoded data removed]",
      "text/plain": [
       "<Figure size 600x400 with 1 Axes>"
      ]
     },
     "metadata": {},
     "output_type": "display_data"
    }
   ],
   "source": [
    "plt.figure(figsize=(6, 4))\n",
    "sns.boxplot(y=df_fifa[\"Wage_winsor_5\"])\n",
    "plt.title(\"Boxplot de Wage Winsorizado (5%)\")\n",
    "plt.ylabel(\"Wage Winsorizado\")\n",
    "plt.show()\n"
   ]
  },
  {
   "cell_type": "markdown",
   "id": "b89ded31",
   "metadata": {},
   "source": [
    "Interpretamos que aun winsorizando al 5% sigue habiendo un numero relevante de outliers y unos pocos jugadores tienen salarios mucho mas elevados que la media etc."
   ]
  },
  {
   "cell_type": "code",
   "execution_count": 200,
   "id": "98b50182",
   "metadata": {},
   "outputs": [],
   "source": [
    "df_fifa.columns = df_fifa.columns.str.strip()  # Elimina espacios en nombres de columnas\n"
   ]
  },
  {
   "cell_type": "code",
   "execution_count": 206,
   "id": "805db24d",
   "metadata": {},
   "outputs": [
    {
     "data": {
      "application/vnd.plotly.v1+json": {
       "config": {
        "plotlyServerURL": "https://plot.ly"
       },
       "data": [
        {
         "customdata": [
          [
           20,
           6,
           "Borussia Dortmund"
          ],
          [
           21,
           8,
           "Chelsea"
          ]
         ],
         "hovertemplate": "<b>%{hovertext}</b><br><br>Mejor Posición=CAM<br>Salario=%{x}<br>Valor de Mercado=%{y}<br>Valoración General=%{marker.size}<br>Age=%{customdata[0]}<br>Growth=%{customdata[1]}<br>Club=%{customdata[2]}<extra></extra>",
         "hovertext": [
          "J. Sancho",
          "K. Havertz"
         ],
         "legendgroup": "CAM",
         "marker": {
          "color": "#636efa",
          "size": {
           "bdata": "V1U=",
           "dtype": "i1"
          },
          "sizemode": "area",
          "sizeref": 0.2175,
          "symbol": "circle"
         },
         "mode": "markers",
         "name": "CAM",
         "orientation": "v",
         "showlegend": true,
         "type": "scatter",
         "x": {
          "bdata": "UEABACiaAQA=",
          "dtype": "i4"
         },
         "xaxis": "x",
         "y": {
          "bdata": "YHwkBEDAZQM=",
          "dtype": "i4"
         },
         "yaxis": "y"
        },
        {
         "customdata": [
          [
           21,
           5,
           "Liverpool"
          ]
         ],
         "hovertemplate": "<b>%{hovertext}</b><br><br>Mejor Posición=RB<br>Salario=%{x}<br>Valor de Mercado=%{y}<br>Valoración General=%{marker.size}<br>Age=%{customdata[0]}<br>Growth=%{customdata[1]}<br>Club=%{customdata[2]}<extra></extra>",
         "hovertext": [
          "T. Alexander-Arnold"
         ],
         "legendgroup": "RB",
         "marker": {
          "color": "#EF553B",
          "size": {
           "bdata": "Vw==",
           "dtype": "i1"
          },
          "sizemode": "area",
          "sizeref": 0.2175,
          "symbol": "circle"
         },
         "mode": "markers",
         "name": "RB",
         "orientation": "v",
         "showlegend": true,
         "type": "scatter",
         "x": {
          "bdata": "sK0BAA==",
          "dtype": "i4"
         },
         "xaxis": "x",
         "y": {
          "bdata": "AIeTAw==",
          "dtype": "i4"
         },
         "yaxis": "y"
        },
        {
         "customdata": [
          [
           33,
           5,
           "Netherlands"
          ]
         ],
         "hovertemplate": "<b>%{hovertext}</b><br><br>Mejor Posición=ST<br>Salario=%{x}<br>Valor de Mercado=%{y}<br>Valoración General=%{marker.size}<br>Age=%{customdata[0]}<br>Growth=%{customdata[1]}<br>Club=%{customdata[2]}<extra></extra>",
         "hovertext": [
          "J. Maatje"
         ],
         "legendgroup": "ST",
         "marker": {
          "color": "#00cc96",
          "size": {
           "bdata": "Vg==",
           "dtype": "i1"
          },
          "sizemode": "area",
          "sizeref": 0.2175,
          "symbol": "circle"
         },
         "mode": "markers",
         "name": "ST",
         "orientation": "v",
         "showlegend": true,
         "type": "scatter",
         "x": {
          "bdata": "AA==",
          "dtype": "i1"
         },
         "xaxis": "x",
         "y": {
          "bdata": "AA==",
          "dtype": "i1"
         },
         "yaxis": "y"
        },
        {
         "customdata": [
          [
           20,
           7,
           "Juventus"
          ]
         ],
         "hovertemplate": "<b>%{hovertext}</b><br><br>Mejor Posición=CB<br>Salario=%{x}<br>Valor de Mercado=%{y}<br>Valoración General=%{marker.size}<br>Age=%{customdata[0]}<br>Growth=%{customdata[1]}<br>Club=%{customdata[2]}<extra></extra>",
         "hovertext": [
          "M. de Ligt"
         ],
         "legendgroup": "CB",
         "marker": {
          "color": "#ab63fa",
          "size": {
           "bdata": "VQ==",
           "dtype": "i1"
          },
          "sizemode": "area",
          "sizeref": 0.2175,
          "symbol": "circle"
         },
         "mode": "markers",
         "name": "CB",
         "orientation": "v",
         "showlegend": true,
         "type": "scatter",
         "x": {
          "bdata": "gDgBAA==",
          "dtype": "i4"
         },
         "xaxis": "x",
         "y": {
          "bdata": "YE/zAg==",
          "dtype": "i4"
         },
         "yaxis": "y"
        },
        {
         "customdata": [
          [
           21,
           7,
           "Milan"
          ]
         ],
         "hovertemplate": "<b>%{hovertext}</b><br><br>Mejor Posición=GK<br>Salario=%{x}<br>Valor de Mercado=%{y}<br>Valoración General=%{marker.size}<br>Age=%{customdata[0]}<br>Growth=%{customdata[1]}<br>Club=%{customdata[2]}<extra></extra>",
         "hovertext": [
          "G. Donnarumma"
         ],
         "legendgroup": "GK",
         "marker": {
          "color": "#FFA15A",
          "size": {
           "bdata": "VQ==",
           "dtype": "i1"
          },
          "sizemode": "area",
          "sizeref": 0.2175,
          "symbol": "circle"
         },
         "mode": "markers",
         "name": "GK",
         "orientation": "v",
         "showlegend": true,
         "type": "scatter",
         "x": {
          "bdata": "0IQAAA==",
          "dtype": "i4"
         },
         "xaxis": "x",
         "y": {
          "bdata": "YD15Ag==",
          "dtype": "i4"
         },
         "yaxis": "y"
        },
        {
         "customdata": [
          [
           22,
           6,
           "Manchester United"
          ]
         ],
         "hovertemplate": "<b>%{hovertext}</b><br><br>Mejor Posición=RM<br>Salario=%{x}<br>Valor de Mercado=%{y}<br>Valoración General=%{marker.size}<br>Age=%{customdata[0]}<br>Growth=%{customdata[1]}<br>Club=%{customdata[2]}<extra></extra>",
         "hovertext": [
          "M. Rashford"
         ],
         "legendgroup": "RM",
         "marker": {
          "color": "#19d3f3",
          "size": {
           "bdata": "VQ==",
           "dtype": "i1"
          },
          "sizemode": "area",
          "sizeref": 0.2175,
          "symbol": "circle"
         },
         "mode": "markers",
         "name": "RM",
         "orientation": "v",
         "showlegend": true,
         "type": "scatter",
         "x": {
          "bdata": "8EkCAA==",
          "dtype": "i4"
         },
         "xaxis": "x",
         "y": {
          "bdata": "QLcoAw==",
          "dtype": "i4"
         },
         "yaxis": "y"
        },
        {
         "customdata": [
          [
           24,
           5,
           "FC Bayern München"
          ]
         ],
         "hovertemplate": "<b>%{hovertext}</b><br><br>Mejor Posición=LM<br>Salario=%{x}<br>Valor de Mercado=%{y}<br>Valoración General=%{marker.size}<br>Age=%{customdata[0]}<br>Growth=%{customdata[1]}<br>Club=%{customdata[2]}<extra></extra>",
         "hovertext": [
          "L. Sané"
         ],
         "legendgroup": "LM",
         "marker": {
          "color": "#FF6692",
          "size": {
           "bdata": "VQ==",
           "dtype": "i1"
          },
          "sizemode": "area",
          "sizeref": 0.2175,
          "symbol": "circle"
         },
         "mode": "markers",
         "name": "LM",
         "orientation": "v",
         "showlegend": true,
         "type": "scatter",
         "x": {
          "bdata": "oIYBAA==",
          "dtype": "i4"
         },
         "xaxis": "x",
         "y": {
          "bdata": "4NMRAw==",
          "dtype": "i4"
         },
         "yaxis": "y"
        }
       ],
       "layout": {
        "legend": {
         "itemsizing": "constant",
         "title": {
          "text": "Mejor Posición"
         },
         "tracegroupgap": 0
        },
        "template": {
         "data": {
          "bar": [
           {
            "error_x": {
             "color": "#2a3f5f"
            },
            "error_y": {
             "color": "#2a3f5f"
            },
            "marker": {
             "line": {
              "color": "#E5ECF6",
              "width": 0.5
             },
             "pattern": {
              "fillmode": "overlay",
              "size": 10,
              "solidity": 0.2
             }
            },
            "type": "bar"
           }
          ],
          "barpolar": [
           {
            "marker": {
             "line": {
              "color": "#E5ECF6",
              "width": 0.5
             },
             "pattern": {
              "fillmode": "overlay",
              "size": 10,
              "solidity": 0.2
             }
            },
            "type": "barpolar"
           }
          ],
          "carpet": [
           {
            "aaxis": {
             "endlinecolor": "#2a3f5f",
             "gridcolor": "white",
             "linecolor": "white",
             "minorgridcolor": "white",
             "startlinecolor": "#2a3f5f"
            },
            "baxis": {
             "endlinecolor": "#2a3f5f",
             "gridcolor": "white",
             "linecolor": "white",
             "minorgridcolor": "white",
             "startlinecolor": "#2a3f5f"
            },
            "type": "carpet"
           }
          ],
          "choropleth": [
           {
            "colorbar": {
             "outlinewidth": 0,
             "ticks": ""
            },
            "type": "choropleth"
           }
          ],
          "contour": [
           {
            "colorbar": {
             "outlinewidth": 0,
             "ticks": ""
            },
            "colorscale": [
             [
              0,
              "#0d0887"
             ],
             [
              0.1111111111111111,
              "#46039f"
             ],
             [
              0.2222222222222222,
              "#7201a8"
             ],
             [
              0.3333333333333333,
              "#9c179e"
             ],
             [
              0.4444444444444444,
              "#bd3786"
             ],
             [
              0.5555555555555556,
              "#d8576b"
             ],
             [
              0.6666666666666666,
              "#ed7953"
             ],
             [
              0.7777777777777778,
              "#fb9f3a"
             ],
             [
              0.8888888888888888,
              "#fdca26"
             ],
             [
              1,
              "#f0f921"
             ]
            ],
            "type": "contour"
           }
          ],
          "contourcarpet": [
           {
            "colorbar": {
             "outlinewidth": 0,
             "ticks": ""
            },
            "type": "contourcarpet"
           }
          ],
          "heatmap": [
           {
            "colorbar": {
             "outlinewidth": 0,
             "ticks": ""
            },
            "colorscale": [
             [
              0,
              "#0d0887"
             ],
             [
              0.1111111111111111,
              "#46039f"
             ],
             [
              0.2222222222222222,
              "#7201a8"
             ],
             [
              0.3333333333333333,
              "#9c179e"
             ],
             [
              0.4444444444444444,
              "#bd3786"
             ],
             [
              0.5555555555555556,
              "#d8576b"
             ],
             [
              0.6666666666666666,
              "#ed7953"
             ],
             [
              0.7777777777777778,
              "#fb9f3a"
             ],
             [
              0.8888888888888888,
              "#fdca26"
             ],
             [
              1,
              "#f0f921"
             ]
            ],
            "type": "heatmap"
           }
          ],
          "histogram": [
           {
            "marker": {
             "pattern": {
              "fillmode": "overlay",
              "size": 10,
              "solidity": 0.2
             }
            },
            "type": "histogram"
           }
          ],
          "histogram2d": [
           {
            "colorbar": {
             "outlinewidth": 0,
             "ticks": ""
            },
            "colorscale": [
             [
              0,
              "#0d0887"
             ],
             [
              0.1111111111111111,
              "#46039f"
             ],
             [
              0.2222222222222222,
              "#7201a8"
             ],
             [
              0.3333333333333333,
              "#9c179e"
             ],
             [
              0.4444444444444444,
              "#bd3786"
             ],
             [
              0.5555555555555556,
              "#d8576b"
             ],
             [
              0.6666666666666666,
              "#ed7953"
             ],
             [
              0.7777777777777778,
              "#fb9f3a"
             ],
             [
              0.8888888888888888,
              "#fdca26"
             ],
             [
              1,
              "#f0f921"
             ]
            ],
            "type": "histogram2d"
           }
          ],
          "histogram2dcontour": [
           {
            "colorbar": {
             "outlinewidth": 0,
             "ticks": ""
            },
            "colorscale": [
             [
              0,
              "#0d0887"
             ],
             [
              0.1111111111111111,
              "#46039f"
             ],
             [
              0.2222222222222222,
              "#7201a8"
             ],
             [
              0.3333333333333333,
              "#9c179e"
             ],
             [
              0.4444444444444444,
              "#bd3786"
             ],
             [
              0.5555555555555556,
              "#d8576b"
             ],
             [
              0.6666666666666666,
              "#ed7953"
             ],
             [
              0.7777777777777778,
              "#fb9f3a"
             ],
             [
              0.8888888888888888,
              "#fdca26"
             ],
             [
              1,
              "#f0f921"
             ]
            ],
            "type": "histogram2dcontour"
           }
          ],
          "mesh3d": [
           {
            "colorbar": {
             "outlinewidth": 0,
             "ticks": ""
            },
            "type": "mesh3d"
           }
          ],
          "parcoords": [
           {
            "line": {
             "colorbar": {
              "outlinewidth": 0,
              "ticks": ""
             }
            },
            "type": "parcoords"
           }
          ],
          "pie": [
           {
            "automargin": true,
            "type": "pie"
           }
          ],
          "scatter": [
           {
            "fillpattern": {
             "fillmode": "overlay",
             "size": 10,
             "solidity": 0.2
            },
            "type": "scatter"
           }
          ],
          "scatter3d": [
           {
            "line": {
             "colorbar": {
              "outlinewidth": 0,
              "ticks": ""
             }
            },
            "marker": {
             "colorbar": {
              "outlinewidth": 0,
              "ticks": ""
             }
            },
            "type": "scatter3d"
           }
          ],
          "scattercarpet": [
           {
            "marker": {
             "colorbar": {
              "outlinewidth": 0,
              "ticks": ""
             }
            },
            "type": "scattercarpet"
           }
          ],
          "scattergeo": [
           {
            "marker": {
             "colorbar": {
              "outlinewidth": 0,
              "ticks": ""
             }
            },
            "type": "scattergeo"
           }
          ],
          "scattergl": [
           {
            "marker": {
             "colorbar": {
              "outlinewidth": 0,
              "ticks": ""
             }
            },
            "type": "scattergl"
           }
          ],
          "scattermap": [
           {
            "marker": {
             "colorbar": {
              "outlinewidth": 0,
              "ticks": ""
             }
            },
            "type": "scattermap"
           }
          ],
          "scattermapbox": [
           {
            "marker": {
             "colorbar": {
              "outlinewidth": 0,
              "ticks": ""
             }
            },
            "type": "scattermapbox"
           }
          ],
          "scatterpolar": [
           {
            "marker": {
             "colorbar": {
              "outlinewidth": 0,
              "ticks": ""
             }
            },
            "type": "scatterpolar"
           }
          ],
          "scatterpolargl": [
           {
            "marker": {
             "colorbar": {
              "outlinewidth": 0,
              "ticks": ""
             }
            },
            "type": "scatterpolargl"
           }
          ],
          "scatterternary": [
           {
            "marker": {
             "colorbar": {
              "outlinewidth": 0,
              "ticks": ""
             }
            },
            "type": "scatterternary"
           }
          ],
          "surface": [
           {
            "colorbar": {
             "outlinewidth": 0,
             "ticks": ""
            },
            "colorscale": [
             [
              0,
              "#0d0887"
             ],
             [
              0.1111111111111111,
              "#46039f"
             ],
             [
              0.2222222222222222,
              "#7201a8"
             ],
             [
              0.3333333333333333,
              "#9c179e"
             ],
             [
              0.4444444444444444,
              "#bd3786"
             ],
             [
              0.5555555555555556,
              "#d8576b"
             ],
             [
              0.6666666666666666,
              "#ed7953"
             ],
             [
              0.7777777777777778,
              "#fb9f3a"
             ],
             [
              0.8888888888888888,
              "#fdca26"
             ],
             [
              1,
              "#f0f921"
             ]
            ],
            "type": "surface"
           }
          ],
          "table": [
           {
            "cells": {
             "fill": {
              "color": "#EBF0F8"
             },
             "line": {
              "color": "white"
             }
            },
            "header": {
             "fill": {
              "color": "#C8D4E3"
             },
             "line": {
              "color": "white"
             }
            },
            "type": "table"
           }
          ]
         },
         "layout": {
          "annotationdefaults": {
           "arrowcolor": "#2a3f5f",
           "arrowhead": 0,
           "arrowwidth": 1
          },
          "autotypenumbers": "strict",
          "coloraxis": {
           "colorbar": {
            "outlinewidth": 0,
            "ticks": ""
           }
          },
          "colorscale": {
           "diverging": [
            [
             0,
             "#8e0152"
            ],
            [
             0.1,
             "#c51b7d"
            ],
            [
             0.2,
             "#de77ae"
            ],
            [
             0.3,
             "#f1b6da"
            ],
            [
             0.4,
             "#fde0ef"
            ],
            [
             0.5,
             "#f7f7f7"
            ],
            [
             0.6,
             "#e6f5d0"
            ],
            [
             0.7,
             "#b8e186"
            ],
            [
             0.8,
             "#7fbc41"
            ],
            [
             0.9,
             "#4d9221"
            ],
            [
             1,
             "#276419"
            ]
           ],
           "sequential": [
            [
             0,
             "#0d0887"
            ],
            [
             0.1111111111111111,
             "#46039f"
            ],
            [
             0.2222222222222222,
             "#7201a8"
            ],
            [
             0.3333333333333333,
             "#9c179e"
            ],
            [
             0.4444444444444444,
             "#bd3786"
            ],
            [
             0.5555555555555556,
             "#d8576b"
            ],
            [
             0.6666666666666666,
             "#ed7953"
            ],
            [
             0.7777777777777778,
             "#fb9f3a"
            ],
            [
             0.8888888888888888,
             "#fdca26"
            ],
            [
             1,
             "#f0f921"
            ]
           ],
           "sequentialminus": [
            [
             0,
             "#0d0887"
            ],
            [
             0.1111111111111111,
             "#46039f"
            ],
            [
             0.2222222222222222,
             "#7201a8"
            ],
            [
             0.3333333333333333,
             "#9c179e"
            ],
            [
             0.4444444444444444,
             "#bd3786"
            ],
            [
             0.5555555555555556,
             "#d8576b"
            ],
            [
             0.6666666666666666,
             "#ed7953"
            ],
            [
             0.7777777777777778,
             "#fb9f3a"
            ],
            [
             0.8888888888888888,
             "#fdca26"
            ],
            [
             1,
             "#f0f921"
            ]
           ]
          },
          "colorway": [
           "#636efa",
           "#EF553B",
           "#00cc96",
           "#ab63fa",
           "#FFA15A",
           "#19d3f3",
           "#FF6692",
           "#B6E880",
           "#FF97FF",
           "#FECB52"
          ],
          "font": {
           "color": "#2a3f5f"
          },
          "geo": {
           "bgcolor": "white",
           "lakecolor": "white",
           "landcolor": "#E5ECF6",
           "showlakes": true,
           "showland": true,
           "subunitcolor": "white"
          },
          "hoverlabel": {
           "align": "left"
          },
          "hovermode": "closest",
          "mapbox": {
           "style": "light"
          },
          "paper_bgcolor": "white",
          "plot_bgcolor": "#E5ECF6",
          "polar": {
           "angularaxis": {
            "gridcolor": "white",
            "linecolor": "white",
            "ticks": ""
           },
           "bgcolor": "#E5ECF6",
           "radialaxis": {
            "gridcolor": "white",
            "linecolor": "white",
            "ticks": ""
           }
          },
          "scene": {
           "xaxis": {
            "backgroundcolor": "#E5ECF6",
            "gridcolor": "white",
            "gridwidth": 2,
            "linecolor": "white",
            "showbackground": true,
            "ticks": "",
            "zerolinecolor": "white"
           },
           "yaxis": {
            "backgroundcolor": "#E5ECF6",
            "gridcolor": "white",
            "gridwidth": 2,
            "linecolor": "white",
            "showbackground": true,
            "ticks": "",
            "zerolinecolor": "white"
           },
           "zaxis": {
            "backgroundcolor": "#E5ECF6",
            "gridcolor": "white",
            "gridwidth": 2,
            "linecolor": "white",
            "showbackground": true,
            "ticks": "",
            "zerolinecolor": "white"
           }
          },
          "shapedefaults": {
           "line": {
            "color": "#2a3f5f"
           }
          },
          "ternary": {
           "aaxis": {
            "gridcolor": "white",
            "linecolor": "white",
            "ticks": ""
           },
           "baxis": {
            "gridcolor": "white",
            "linecolor": "white",
            "ticks": ""
           },
           "bgcolor": "#E5ECF6",
           "caxis": {
            "gridcolor": "white",
            "linecolor": "white",
            "ticks": ""
           }
          },
          "title": {
           "x": 0.05
          },
          "xaxis": {
           "automargin": true,
           "gridcolor": "white",
           "linecolor": "white",
           "ticks": "",
           "title": {
            "standoff": 15
           },
           "zerolinecolor": "white",
           "zerolinewidth": 2
          },
          "yaxis": {
           "automargin": true,
           "gridcolor": "white",
           "linecolor": "white",
           "ticks": "",
           "title": {
            "standoff": 15
           },
           "zerolinecolor": "white",
           "zerolinewidth": 2
          }
         }
        },
        "title": {
         "text": "Top 10 Jugadores para el Real Madrid"
        },
        "xaxis": {
         "anchor": "y",
         "domain": [
          0,
          1
         ],
         "title": {
          "text": "Salario"
         }
        },
        "yaxis": {
         "anchor": "x",
         "domain": [
          0,
          1
         ],
         "title": {
          "text": "Valor de Mercado"
         }
        }
       }
      }
     },
     "metadata": {},
     "output_type": "display_data"
    }
   ],
   "source": [
    "# Filtrar jugadores con OVA alto y buen crecimiento\n",
    "df_top_fichajes = df_fifa[(df_fifa[\"OVA\"] >= 85) & (df_fifa[\"Growth\"] >= 5)]\n",
    "\n",
    "# Ordenar por OVA, Growth y Value\n",
    "df_top_fichajes = df_top_fichajes.sort_values(by=[\"OVA\", \"Growth\", \"Value\"], ascending=[False, False, False]).head(10)\n",
    "\n",
    "# Crear gráfico de dispersión con Plotly\n",
    "fig = px.scatter(\n",
    "    df_top_fichajes,\n",
    "    x=\"Wage\",               # Salario en el eje X\n",
    "    y=\"Value\",              # Valor de mercado en el eje Y\n",
    "    size=\"OVA\",             # Tamaño del punto según la OVA\n",
    "    color=\"BP\",             # Color según la mejor posición (Best Position)\n",
    "    hover_name=\"Name\",      # Mostrar el nombre del jugador al pasar el mouse\n",
    "    hover_data=[\"Age\", \"Growth\", \"Club\"],  # Info extra en el hover\n",
    "    title=\"Top 10 Jugadores para el Real Madrid\",\n",
    "    labels={\"Wage\": \"Salario\", \"Value\": \"Valor de Mercado\", \"OVA\": \"Valoración General\", \"BP\": \"Mejor Posición\"},\n",
    ")\n",
    "\n",
    "# Mostrar gráfico interactivo\n",
    "fig.show()\n",
    "\n"
   ]
  }
 ],
 "metadata": {
  "kernelspec": {
   "display_name": "Ironhack_Bootcamp",
   "language": "python",
   "name": "python3"
  },
  "language_info": {
   "codemirror_mode": {
    "name": "ipython",
    "version": 3
   },
   "file_extension": ".py",
   "mimetype": "text/x-python",
   "name": "python",
   "nbconvert_exporter": "python",
   "pygments_lexer": "ipython3",
   "version": "3.12.8"
  }
 },
 "nbformat": 4,
 "nbformat_minor": 5
}
